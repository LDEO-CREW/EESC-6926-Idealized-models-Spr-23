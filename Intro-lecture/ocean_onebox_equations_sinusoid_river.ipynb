{
 "cells": [
  {
   "cell_type": "raw",
   "metadata": {},
   "source": [
    "  This program runs ocean_onebox_equations, to integrate the 1 box global\n",
    "  chemistry model of Figure 1.1.2 of Sarmiento and Gruber (2006)\n",
    " \n",
    "\n",
    "  01.17.2017 G.A. McKinley for AOS965, University of Wisconsin - Madison\n",
    "              following examples from Glover et al. 2011\n",
    "  01.09.2019 R. Dussin, convert to python\n",
    "  09.09.2019 G.A. McKinley for EESC6926 with sinusoidal river input"
   ]
  },
  {
   "cell_type": "code",
   "execution_count": null,
   "metadata": {},
   "outputs": [],
   "source": [
    "import scipy.integrate as spint\n",
    "import matplotlib.pyplot as plt\n",
    "import numpy as np\n",
    "import warnings\n",
    "import math"
   ]
  },
  {
   "cell_type": "code",
   "execution_count": null,
   "metadata": {},
   "outputs": [],
   "source": [
    "warnings.filterwarnings('ignore')"
   ]
  },
  {
   "cell_type": "code",
   "execution_count": null,
   "metadata": {},
   "outputs": [],
   "source": [
    "class onebox_sinusoid_river():\n",
    "    \"\"\" one box model for chemical balance in the ocean\"\"\"\n",
    "    \n",
    "    def __init__(self, volume_ocean=1.29e18, river_flux=3.7e13):\n",
    "        \"\"\" constructor\n",
    "        \n",
    "        PARAMETERS:\n",
    "        \n",
    "        volume_ocean: float\n",
    "            volume of the ocean in m3\n",
    "        river_flux: float\n",
    "            river water flux in m3/year\n",
    "        \"\"\"\n",
    "        self.volume_ocean = volume_ocean\n",
    "        self.river_flux = river_flux\n",
    "        return None\n",
    "    \n",
    "    def integrate_tracer(self, name='Calcium', river_conc=364e3, \n",
    "                         removal_rate=1e-6, conc_ini=0., run_duration=1e6,maxstep=1e4):\n",
    "    \n",
    "        \"\"\" time integration of the one box equation\n",
    "        \n",
    "        PARAMETERS:\n",
    "        \n",
    "        name: str\n",
    "            name of the chemical element\n",
    "        river_conc: float\n",
    "            river concentration in umol/m3\n",
    "        removal_rate: float\n",
    "            removal rate of the chemical element in 1/year\n",
    "        conc_ini: float\n",
    "            initial concentration of chemical element in umol/m3\n",
    "        run_duration: float\n",
    "            integration time in years\n",
    "        maxstep: float\n",
    "             maximum timestep in year\n",
    "        \"\"\"\n",
    "        self.name = name\n",
    "        self.river_conc = river_conc\n",
    "        self.removal_rate = removal_rate\n",
    "        self.conc_ini = np.array([conc_ini])\n",
    "        self.time_ini = 0\n",
    "        self.time_end = run_duration\n",
    "        self.max_step = maxstep\n",
    "        # integration the box equation with RK45\n",
    "        # max_step = 1e4 years. This forces a timescale of integration significantly \n",
    "        #       shorter than the timescale of the river variation. Stabilizes integration.\n",
    "        solver = spint.solve_ivp(self.ocean_onebox_equations, (self.time_ini, self.time_end,),\n",
    "                         self.conc_ini, method='RK45',max_step=self.max_step)\n",
    "        \n",
    "        self.time = solver['t']\n",
    "        self.tracer_conc = solver['y'].squeeze()\n",
    "        # plot the results\n",
    "        self.plot_timeserie()\n",
    "        return self.time, self.tracer_conc\n",
    "        \n",
    "    def plot_timeserie(self):\n",
    "        \"\"\" plotting function \"\"\"\n",
    "        plt.figure(figsize=[10,8])\n",
    "        plt.plot(self.time, self.tracer_conc)\n",
    "        plt.xlabel('years',fontsize=16)\n",
    "        plt.ylabel(self.name + ' concentration [umol/m3]', fontsize=16)\n",
    "        plt.xticks(fontsize=14)\n",
    "        plt.yticks(fontsize=14)\n",
    "        plt.title('Time evolution for ' + self.name + \n",
    "                  ' in one box model (Fig 1.1.2, SG06)', fontsize=16)\n",
    "        return None\n",
    "        \n",
    "    def ocean_onebox_equations(self, time, conc):\n",
    "        \"\"\" governing equation \"\"\"\n",
    "        # timescale_variation_river = timescale of river variation\n",
    "        timescale_variation_river = 1e5\n",
    "        omega = 2*np.pi/timescale_variation_river\n",
    "        vary_river_conc = self.river_conc + (self.river_conc/2)*math.sin(omega*time)\n",
    "        dconcdt = (self.river_flux * vary_river_conc - \n",
    "                   self.removal_rate * conc * self.volume_ocean) / self.volume_ocean\n",
    "        return dconcdt"
   ]
  },
  {
   "cell_type": "code",
   "execution_count": null,
   "metadata": {},
   "outputs": [],
   "source": [
    "boxmodel = onebox_sinusoid_river()"
   ]
  },
  {
   "cell_type": "code",
   "execution_count": null,
   "metadata": {},
   "outputs": [],
   "source": [
    "# default is Calcium\n",
    "t, ca_conc = boxmodel.integrate_tracer(run_duration=1e7)"
   ]
  },
  {
   "cell_type": "code",
   "execution_count": null,
   "metadata": {},
   "outputs": [],
   "source": [
    "# Silicon\n",
    "t, si_conc = boxmodel.integrate_tracer(name='Silicon', river_conc=193e3, removal_rate=1./(15e3))"
   ]
  },
  {
   "cell_type": "code",
   "execution_count": null,
   "metadata": {},
   "outputs": [],
   "source": [
    "# Phosphorus\n",
    "t, p_conc = boxmodel.integrate_tracer(name='Phosphorus', river_conc=1300, removal_rate=1./(52e3))"
   ]
  },
  {
   "cell_type": "code",
   "execution_count": null,
   "metadata": {},
   "outputs": [],
   "source": []
  },
  {
   "cell_type": "code",
   "execution_count": null,
   "metadata": {},
   "outputs": [],
   "source": []
  }
 ],
 "metadata": {
  "kernelspec": {
   "display_name": "Python 3",
   "language": "python",
   "name": "python3"
  },
  "language_info": {
   "codemirror_mode": {
    "name": "ipython",
    "version": 3
   },
   "file_extension": ".py",
   "mimetype": "text/x-python",
   "name": "python",
   "nbconvert_exporter": "python",
   "pygments_lexer": "ipython3",
   "version": "3.6.5"
  }
 },
 "nbformat": 4,
 "nbformat_minor": 2
}
