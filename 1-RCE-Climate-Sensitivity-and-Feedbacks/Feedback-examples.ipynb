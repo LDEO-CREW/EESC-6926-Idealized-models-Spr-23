{
 "cells": [
  {
   "cell_type": "code",
   "execution_count": 1,
   "id": "ecfed71a-c8c7-48d4-ab90-0201b791686c",
   "metadata": {},
   "outputs": [],
   "source": [
    "# Import needed Python modules \n",
    "import copy\n",
    "import matplotlib.pyplot as plt\n",
    "import seaborn as sns\n",
    "import colorcet as cc\n",
    "\n",
    "import numpy as np\n",
    "\n",
    "import konrad"
   ]
  },
  {
   "cell_type": "code",
   "execution_count": 2,
   "id": "bf5dbc47-7cdd-4ba2-8e6a-568fc19f520e",
   "metadata": {},
   "outputs": [],
   "source": [
    "#\n",
    "# Used in examples below\n",
    "#\n",
    "atmosphere = konrad.atmosphere.Atmosphere(konrad.utils.get_quadratic_pgrid(1000e2, 10, 128))\n",
    "atmosphere[\"CO2\"][:] = 280E-6\n",
    "initial_conds = atmosphere.copy()"
   ]
  },
  {
   "cell_type": "markdown",
   "id": "fadf18e9-d69a-4e2b-82cf-20057b848903",
   "metadata": {},
   "source": [
    "### Feedbacks under fixed Q"
   ]
  },
  {
   "cell_type": "code",
   "execution_count": 3,
   "id": "5254764c-4f78-49bc-8b06-b6352741b70d",
   "metadata": {},
   "outputs": [],
   "source": [
    "Ts = 294\n",
    "\n",
    "base = konrad.RCE(atmosphere = initial_conds.copy(), \n",
    "                 surface=konrad.surface.FixedTemperature(temperature=Ts))\n",
    "base.run()\n",
    "Neq = base.radiation[\"toa\"][-1]\n",
    "\n",
    "pert = konrad.RCE(atmosphere = base.atmosphere.copy(), \n",
    "                 surface=konrad.surface.FixedTemperature(temperature=Ts+1))\n",
    "pert.run()"
   ]
  },
  {
   "cell_type": "code",
   "execution_count": 4,
   "id": "6d2240ea-1234-414e-aea3-01bd43ce3de2",
   "metadata": {},
   "outputs": [],
   "source": [
    "# Make a mask for tropospheric values\n",
    "trop = base.atmosphere[\"plev\"] > 230.*100."
   ]
  },
  {
   "cell_type": "code",
   "execution_count": 5,
   "id": "f9a4f21f-2c87-4836-bc8b-15c9db823038",
   "metadata": {},
   "outputs": [
    {
     "name": "stdout",
     "output_type": "stream",
     "text": [
      "Const. Q, Planck feedback: -2.83  W/m2-K\n"
     ]
    }
   ],
   "source": [
    "# Planck feedback - uniform tropspheric warming, fixed Q\n",
    "rad = copy.deepcopy(base) \n",
    "rad.atmosphere[\"T\"][0,:][trop] += 1\n",
    "rad.radiation.update_heatingrates(rad.atmosphere, rad.surface)\n",
    "lambda_planck = rad.radiation[\"toa\"][-1] - base.radiation[\"toa\"][-1]\n",
    "print(\"Const. Q, Planck feedback:\", np.round(lambda_planck, 2), \" W/m2-K\")"
   ]
  },
  {
   "cell_type": "code",
   "execution_count": 6,
   "id": "ea4ae63d-78a1-48d4-a047-1496bedbd88b",
   "metadata": {},
   "outputs": [
    {
     "name": "stdout",
     "output_type": "stream",
     "text": [
      "Const. Q, total T feedback: -4.72  W/m2-K\n",
      "Const. Q, LR feedback: -1.89  W/m2-K\n"
     ]
    }
   ],
   "source": [
    "# Feedback from vertically-varying tropospheric change in T, fixed Q\n",
    "rad = copy.deepcopy(base) \n",
    "rad.atmosphere[\"T\"][0,:][trop] = pert.atmosphere[\"T\"][0,:][trop]\n",
    "rad.radiation.update_heatingrates(rad.atmosphere, rad.surface)\n",
    "lambda_T = rad.radiation[\"toa\"][-1] - base.radiation[\"toa\"][-1]\n",
    "print(\"Const. Q, total T feedback:\", np.round(lambda_T, 2), \" W/m2-K\")\n",
    "print(\"Const. Q, LR feedback:\", np.round(lambda_T - lambda_planck, 2), \" W/m2-K\")"
   ]
  },
  {
   "cell_type": "code",
   "execution_count": 7,
   "id": "563c91ea-b9b4-4583-a667-52a351ce0272",
   "metadata": {},
   "outputs": [
    {
     "name": "stdout",
     "output_type": "stream",
     "text": [
      "Const. Q, water vapor feedback: 4.26  W/m2-K\n"
     ]
    }
   ],
   "source": [
    "# Water vapor feedback - fixed Q\n",
    "rad = copy.deepcopy(base) \n",
    "rad.atmosphere[\"H2O\"][0,:][trop] = pert.atmosphere[\"H2O\"][0,:][trop]\n",
    "rad.radiation.update_heatingrates(rad.atmosphere, rad.surface)\n",
    "print(\"Const. Q, water vapor feedback:\", np.round(rad.radiation[\"toa\"][-1] - base.radiation[\"toa\"][-1], 2), \" W/m2-K\")"
   ]
  },
  {
   "cell_type": "markdown",
   "id": "b6116ef4-d039-4d83-acab-d4806c08cd88",
   "metadata": {},
   "source": [
    "### Feedbacks with constant RH"
   ]
  },
  {
   "cell_type": "code",
   "execution_count": 9,
   "id": "ef36219f-b61e-4461-a7e1-785d48fd6b27",
   "metadata": {},
   "outputs": [
    {
     "name": "stdout",
     "output_type": "stream",
     "text": [
      "Const. RH, Planck feedback: -0.5  W/m2-K\n",
      "Const. RH, total T feedback: -0.62  W/m2-K\n",
      "Const. RH, LR feedback: -0.13  W/m2-K\n",
      "Const. RH: water vapor feedback is 0 by construction\n"
     ]
    }
   ],
   "source": [
    "# Planck feedback \n",
    "rad = copy.deepcopy(base)\n",
    "rad.atmosphere[\"T\"][0,:][trop] += 1\n",
    "# Impose fixed RH\n",
    "rad.atmosphere[\"H2O\"][0,:][trop] = \\\n",
    "    konrad.physics.relative_humidity2vmr(0.8, rad.atmosphere[\"plev\"][trop], rad.atmosphere[\"T\"][0,trop])\n",
    "rad.radiation.update_heatingrates(rad.atmosphere, rad.surface)\n",
    "lambda_planck = rad.radiation[\"toa\"][-1] - base.radiation[\"toa\"][-1]\n",
    "print(\"Const. RH, Planck feedback:\", np.round(lambda_planck, 2), \" W/m2-K\")\n",
    "\n",
    "# Feedback from total tropospheric change in T, fixed RH\n",
    "rad = copy.deepcopy(base)\n",
    "# Impose fixed RH - guaranteed by konrad \n",
    "rad.atmosphere[\"H2O\"][0,:][trop] = pert.atmosphere[\"H2O\"][0,:][trop]\n",
    "rad.atmosphere[\"T\"]  [0,:][trop] = pert.atmosphere[\"T\"]  [0,:][trop]\n",
    "rad.radiation.update_heatingrates(rad.atmosphere, rad.surface)\n",
    "lambda_T = rad.radiation[\"toa\"][-1] - base.radiation[\"toa\"][-1]\n",
    "print(\"Const. RH, total T feedback:\", np.round(lambda_T, 2), \" W/m2-K\")\n",
    "\n",
    "print(\"Const. RH, LR feedback:\", np.round(lambda_T - lambda_planck, 2), \" W/m2-K\")\n",
    "\n",
    "print(\"Const. RH: water vapor feedback is 0 by construction\") "
   ]
  },
  {
   "cell_type": "code",
   "execution_count": null,
   "id": "8b9caa3b-c50b-4e86-b21a-09c1d8f2d952",
   "metadata": {},
   "outputs": [],
   "source": []
  }
 ],
 "metadata": {
  "kernelspec": {
   "display_name": "Python 3 (ipykernel)",
   "language": "python",
   "name": "python3"
  },
  "language_info": {
   "codemirror_mode": {
    "name": "ipython",
    "version": 3
   },
   "file_extension": ".py",
   "mimetype": "text/x-python",
   "name": "python",
   "nbconvert_exporter": "python",
   "pygments_lexer": "ipython3",
   "version": "3.10.8"
  }
 },
 "nbformat": 4,
 "nbformat_minor": 5
}
