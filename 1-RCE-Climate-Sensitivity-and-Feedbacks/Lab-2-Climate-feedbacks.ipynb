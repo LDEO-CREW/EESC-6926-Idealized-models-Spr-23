{
 "cells": [
  {
   "cell_type": "markdown",
   "id": "72b2daaf-6f2a-4a38-adb7-23f7febf6735",
   "metadata": {},
   "source": [
    "### Climate forcing and climate feedbacks\n",
    "\n",
    "As we discussed in the first lecture radiative forcing is the change in net top-of-atmosphere radiation $N$ caused by a change in state or composition $x_i$. Assuming small perturbations and hence linearity: \n",
    "\n",
    "$$\n",
    "F_i = \\frac{d N}{d x_i}\n",
    "$$\n",
    "\n",
    "Climate feedbacks are changes in $N$ caused, directly or indirectly, by changes in surface temperature $T_s$\n",
    "\n",
    "$$\n",
    "\\lambda_i = \\frac{\\partial N}{\\partial x_i} \\frac{d  x_i}{d T_s}\n",
    "$$\n",
    "\n",
    "In a closed system, such as the global mean or a single column, $N = 0$ in long-term equilibrium (steady state) since otherwise the temperature would change. For a system subject to radiative forcing the net top-of-atmosphere radiation is a balance between the applied forcing and the changing temperature: \n",
    "$$\n",
    "N = F - \\lambda \\Delta T_s\n",
    "$$\n",
    "with \n",
    "$$\n",
    "\\lambda = \\frac{\\partial N}{\\partial T_s} + \\sum_i  \\frac{\\partial N}{\\partial x_i}\\frac{dx_i}{d T_s}\n",
    "$$"
   ]
  },
  {
   "cell_type": "markdown",
   "id": "d44b8f3b-eaae-416c-86cf-7c58dbdfb3f5",
   "metadata": {},
   "source": [
    "### Identifying feedbacks in RCE\n",
    "\n",
    "What are the state variables $x_i$ in our one-dimensional model for RCE? As we've seen the system comprises a small number of variables: surface temperature $T_s$ and profiles of temperature $T(p)$ and humidity $q(p)$ (where $q$ implies an absolute concentration of water vapor rather than relative humidity). $N$ depends on the vertical distribution of $T$ and $Q$, each of which are defined on the pressure (vertical) grid, so the full \"state vector\" includes every individual value of $T$ and $q$. \n",
    "\n",
    "It's possible to compute feedbacks with respect to the change of each variable at each level but it's not very enlightening since those values depend so strongly on each other. In this lab we'll decompose feedbacks into changes due to \n",
    "1. changes in surface temperature (the surface temperature feedback $\\lambda_{T_s}$\n",
    "2. vertically uniform warming of the atmosphere, or the atmospheric Planck feedback $\\lambda_{T}$\n",
    "3. vertically non-uniform warming of the atmosphere, or the lapse rate feedback $\\lambda_{\\Gamma}$\n",
    "4. changes in humidity, or the water vapor feedback $\\lambda_{q}$\n",
    "\n",
    "As you'll see, the latter two are quite closely tied together. "
   ]
  },
  {
   "cell_type": "markdown",
   "id": "29047f50-4eaf-45f3-b05c-c0ecfd552064",
   "metadata": {},
   "source": [
    "### Computing feedbacks in RCE \n",
    "\n",
    "For all the questions below please start with order 10 combinations of surface temperatures (say in the range 288-310 K) and humidities run to radiative-convective equilibrium with fixed surfacet temperatures, as you did in Question 4, part 1 of Lab 1. \n",
    "\n",
    "_Technical advice:_ \n",
    "\n",
    "1. Remember that $N$ is available directly from a simulation `rce` as `rce.radiation[\"toa\"][-1]`. \n",
    "2. For computing feedbacks, i.e. changes in $N$ with respect to state, use `rce.radiation.update_heatingrates()` as in Question 2 of Lab 1. \n",
    "3. Remember that instances of konrad (`rce` in the examples above) are persistent, so if surface temperature is changed for one calculation it remains at that value unless explicitly changed again. \n",
    "\n",
    "We will use `konrad`'s default distribution of humidity: constant relative humidity RH of 80% in the tropopshere and constant above the coldest temperature. We developed ways to change the tropospheric RH in Lab 1, question 1. \n",
    "\n",
    "Please plot the following quantities in some way that illustrates the interesting dependencies. One possibility is to make plots as a function of $T_s$ and $RH$. "
   ]
  },
  {
   "cell_type": "code",
   "execution_count": 1,
   "id": "fc24a7fb-3956-4f5c-8009-4bd47f87cafe",
   "metadata": {},
   "outputs": [],
   "source": [
    "# Import needed Python modules \n",
    "import copy\n",
    "import matplotlib.pyplot as plt\n",
    "import seaborn as sns\n",
    "import colorcet as cc\n",
    "\n",
    "import numpy as np\n",
    "\n",
    "import konrad"
   ]
  },
  {
   "cell_type": "code",
   "execution_count": 2,
   "id": "b4b9837f-ffff-49ac-ac23-bf95542bf52d",
   "metadata": {},
   "outputs": [],
   "source": [
    "#\n",
    "# Used in examples below\n",
    "#\n",
    "atmosphere = konrad.atmosphere.Atmosphere(konrad.utils.get_quadratic_pgrid(1000e2, 10, 128))\n",
    "atmosphere[\"CO2\"][:] = 280E-6\n",
    "initial_conds = atmosphere.copy()"
   ]
  },
  {
   "cell_type": "markdown",
   "id": "91402fed-4032-49d1-b7d7-c351f2950fa4",
   "metadata": {},
   "source": [
    "### Surface temperature feedbacks \n",
    "\n",
    "In Lab 1 you learned how to update the radiation fields after changing the atmospheric conditions using `konrad.radiation.update_heatingrates()`. First determine the atmospheric state in equilibrium, and save the top-of-atmosphere radiation imbalance; then change the surface temperature by 1 K and compute a new equilibrium"
   ]
  },
  {
   "cell_type": "code",
   "execution_count": 3,
   "id": "3ec6f163-ebbd-4148-8020-557b7c26bed4",
   "metadata": {},
   "outputs": [],
   "source": [
    "Ts = 294\n",
    "\n",
    "base = konrad.RCE(atmosphere = initial_conds.copy(), \n",
    "                 surface=konrad.surface.FixedTemperature(temperature=Ts))\n",
    "base.run()\n",
    "Neq = base.radiation[\"toa\"][-1]\n",
    "\n",
    "pert = konrad.RCE(atmosphere = base.atmosphere.copy(), \n",
    "                 surface=konrad.surface.FixedTemperature(temperature=Ts+1))\n",
    "pert.run()"
   ]
  },
  {
   "cell_type": "markdown",
   "id": "04c4c6ff-2086-4f24-a5f0-8545676cf0b6",
   "metadata": {},
   "source": [
    "The surface temperature feedback is $\\frac{dN}{d T_s}$: "
   ]
  },
  {
   "cell_type": "code",
   "execution_count": 4,
   "id": "5870bff3-1f20-40e8-8139-55ec78f37caa",
   "metadata": {},
   "outputs": [
    {
     "name": "stdout",
     "output_type": "stream",
     "text": [
      "Surface feedback:  -0.83  W/m2-K\n"
     ]
    }
   ],
   "source": [
    "rad = copy.deepcopy(base) \n",
    "rad.surface[\"temperature\"][:] = Ts + 1 # Increase the surface temperature\n",
    "rad.radiation.update_heatingrates(rad.atmosphere, rad.surface)\n",
    "print (\"Surface feedback: \", np.round(rad.radiation[\"toa\"][-1] - Neq, 2, ), \" W/m2-K\")"
   ]
  },
  {
   "cell_type": "markdown",
   "id": "4918df87-0f78-4c0b-bcf5-a82f212bd368",
   "metadata": {},
   "source": [
    "- For several humidity/surface temperature combinations, compute the surface temperature feedback $\\lambda_{T_s} = \\frac{\\partial N}{\\partial T_s}$ by changing surface temperature and computing the change in top-of-atmosphere net radiation $N$ with respect to the equilibrated solution. (You may well have done this in Lab 1, question 4.1). "
   ]
  },
  {
   "cell_type": "markdown",
   "id": "c81e5019-5384-4956-b88b-0201a323d328",
   "metadata": {},
   "source": [
    "### Water vapor and lapse rate feedbacks \n",
    "\n",
    "**Revisit** The Planck feedback, i.e. the change in $N$ due to vertically uniform warming, is conceptually simple, but the atmosphere is unlikely to warm uniformly. \n",
    "\n",
    "In the atmospheric sciences the term \"lapse rate\" describes the rate of change of temperature with  or pressure $\\Gamma(p) = \\frac{dT}{dp}$. In RCE this is determined by the \"moist adiabatic lapse rate\" $\\Gamma_m(p)$ meaning the variation of temperature with height in a energy-conserving parcel of air in which water is condensing. $\\Gamma_m(p)$ depends on temperature and pressure through the dependence of the maximum (saturation) water vapor mixing ratio on temperature. \n",
    "\n",
    "The \"lapse rate feedback\" $\\lambda_{\\Gamma}$ is the change in $N$ due to changes in $\\Gamma(p)$ - in other words, the change in $N$ due to non-uniform warming of the atmosphere. \n",
    "\n",
    "The water vapor feedback $\\lambda_{wv}$, the change in $N$ caused by changes in the distribution of water vapor, is so strongly controlled by temperature that it's easiest to consider $\\lambda_{wv}$ and $\\lambda_{\\Gamma}$ together. \n",
    "\n",
    "As discussed by [Isaac Held and Karen Shell (2012)](https://10.1175/JCLI-D-11-00721.1) (an excerpt of which is [below](#held-shell)), the magnitude of the lapse rate and water feedbacks depend on which state variable is used to represent water vapor, which is equivalent to choosing a reference response. If we characterize water vapor by its _absolute concentration_, feedbacks are measured against a world in which absolute concentration doesn't change with temperature, meaning that relative humidity decreases with warming. If we characterize water vapor by its _relative concentration_ or _relative humidity_ (relative being measured with respect to temperature-depednent saturation), then the feedbacks are measured in a world in which warmer is also wetter. \n",
    "\n",
    "In our models of RCE, in which relative humidity is constant by construction, using an absolute humidity framwork leads to large lapse rate and water vapor feedbacks of opposite sign, while using a relative humidity framework yields much smaller feedbacks. "
   ]
  },
  {
   "cell_type": "markdown",
   "id": "8365c4f4-e493-4787-917c-b4293b24622a",
   "metadata": {},
   "source": [
    "### Planck, lapse rate, and water vapor and lapse rate feedbacks in konrad\n",
    "\n",
    "Feedbacks can computed by evaluating the $\\frac{\\partial N}{\\partial x_i}$ and $\\frac{dx_i}{d T_s}$ terms separately. It's somewhat easier to compute the product directly by substituting different state variables from a baseline and a perturbed equilibrium"
   ]
  },
  {
   "cell_type": "code",
   "execution_count": 6,
   "id": "6bc9a967-b319-448b-98f6-ca63acaf0280",
   "metadata": {},
   "outputs": [],
   "source": [
    "# Make a mask for tropospheric values\n",
    "trop = base.atmosphere[\"plev\"] > 230.*100."
   ]
  },
  {
   "cell_type": "markdown",
   "id": "35e99a1d-46ab-4c0e-a1d6-099e1537d27f",
   "metadata": {},
   "source": [
    "### Feedbacks under fixed Q"
   ]
  },
  {
   "cell_type": "markdown",
   "id": "89445fbb-1f4f-4da9-b4f6-67d7b4a25a73",
   "metadata": {},
   "source": [
    "### Feedbacks with constant RH"
   ]
  },
  {
   "cell_type": "markdown",
   "id": "f927d66f-405d-4916-b406-5b44d31f8a7f",
   "metadata": {},
   "source": [
    "### Excursus: On clarity and choosing a decomposition \n",
    "<a id='held-shell'></a>\n",
    "\n",
    "The following discussion is from from [Held and Shell 2012](https://10.1175/JCLI-D-11-00721.1), arguing for using relative humidity rather than absolute humdity as the state variable when computing climate feedbacks. \n",
    "\n",
    "\"Consider a system in which net radiation at TOA depends on two state variables $A, B$. Equilibrium is reached after a forcing $\\tilde F$ when \n",
    "$$ F = -\\frac{\\partial N}{\\partial A}\\delta A - \\frac{\\partial N}{\\partial B}\\delta B$$\n",
    "\n",
    "If one variable is the most interesting - say surface temperature - we might rewrite this as \n",
    "$$ F = -\\frac{\\partial N}{\\partial A}\\delta A - \\frac{\\partial N}{\\partial B}\\frac{\\delta B}{\\delta A}\\delta A$$\n",
    "or \n",
    "$$ \\delta A = -\\frac{F}{\\lambda_A + \\lambda_B}$$\n",
    "where \n",
    "$$\\lambda_A = \\frac{\\partial N}{\\partial A}, \\lambda_B = \\frac{\\partial N}{\\partial B}\\frac{\\delta B}{\\delta A}$$\n",
    "\n",
    "where $\\lambda_B$ is the \"B feedback\"\n",
    "\n",
    "We could write this in terms of the \"reference response\" of $A$ to $F$: \n",
    "\n",
    "$$\\delta A = \\frac{\\delta A\\big|_{B}}{1 - \\mu_B}$$\n",
    "\n",
    "with $\\mu_B = -\\lambda_B/\\lambda_A$  a nondimensional measure of the amplitude of the B feedback, defined so as to be positive if it increases the amplitude of $\\delta A$.\n",
    "\n",
    "Now suppose that $B = f(A,C)$ and we want to think of the feedbacks in terms of $C$ rather than $B$. $B$ might be tropospheric temperature, say, and if $C = A - C$ then $C$ is the lapse rate. Then \n",
    "$$ F = -\\left(\\frac{\\partial N}{\\partial A} + \\frac{\\partial N}{\\partial B}\\frac{\\partial B}{\\partial A}\\right) \\delta A - \n",
    "\\frac{\\partial N}{\\partial B}\\frac{\\partial B}{\\partial C}\\delta C$$\n",
    "Then \n",
    "$$ \\delta A = -\\frac{F}{\\tilde \\lambda_A + \\tilde \\lambda_C} = \\frac{\\delta A\\big|_{C}}{1 - \\tilde \\mu_C}$$\n",
    "\n",
    "$$ \\tilde \\lambda_A = \\frac{\\partial N}{\\partial A} + \\frac{\\partial N}{\\partial B}\\frac{\\partial B}{\\partial A}$$\n",
    "\n",
    "$$ \\tilde \\lambda_C = \\frac{\\partial N}{\\partial B}\\frac{\\partial B}{\\partial C}\\frac{\\delta C}{\\delta A}; \\tilde \\mu_C = -\\tilde \\lambda_C / \\tilde \\lambda_A$$\n",
    "\n",
    "Of course, the system does not care whether we think of the flux as a function of $(A, B)$ or $(A, C)$. The choice between the two is a convention.\n",
    "\n",
    "Consider a model in which $A$ is the surface temperature, $B$ is the temperature of the troposphere, and $C = A - B$. Then the $C$ feedback would be a lapse-rate feedback, and the reference response at fixed $C$ would be the familiar reference assuming identical temperature perturbations at the surface and through the entire troposphere. The $B$ feedback perspective would be very different. A climate change with uniform warming at the surface and through the troposphere would be described as resulting from a very large reference sensitivity (computed as if the forcing were required to be balanced entirely by the surface warming) in conjunction with a very strong negative $B$, or tropospheric temperature, feedback. \n",
    "\n",
    "It is worth considering why the latter, untraditional, viewpoint seems so awkward. Fundamentally, the problem is that it is physically implausible for the surface warming and tropospheric warming to vary independently. The large changes in gravitational stability that would result if there were no \"tropospheric feedback\" would be strongly resisted by the atmospheric circulation. (RP: This argument leads to RCE.) It makes little sense to use variables $A$ and $B$ in this kind of analysis if they are so closely tied together that the limit of no $B$ feedback is so implausible.\n",
    "\n",
    "While there is nothing preventing one from using this perspective, it can cause confusion. For example, it might encourage the (incorrect) idea that because $B$ feedback is large its strength must be a source of substantial uncertainty in the response. Thinking of the \"tropospheric feedback\" as large and negative in this example is simply a result of our odd choice of variables.\n",
    "\n",
    "It is undesirable for the realizability of a large positive feedback to be dependent on the presence of a large negative feedback $\\dots$ A feedback analysis that involves this cancellation makes the decomposition of the response into parts due to different processes look more complicated than it actually is.\""
   ]
  }
 ],
 "metadata": {
  "kernelspec": {
   "display_name": "Python 3 (ipykernel)",
   "language": "python",
   "name": "python3"
  },
  "language_info": {
   "codemirror_mode": {
    "name": "ipython",
    "version": 3
   },
   "file_extension": ".py",
   "mimetype": "text/x-python",
   "name": "python",
   "nbconvert_exporter": "python",
   "pygments_lexer": "ipython3",
   "version": "3.10.8"
  }
 },
 "nbformat": 4,
 "nbformat_minor": 5
}
