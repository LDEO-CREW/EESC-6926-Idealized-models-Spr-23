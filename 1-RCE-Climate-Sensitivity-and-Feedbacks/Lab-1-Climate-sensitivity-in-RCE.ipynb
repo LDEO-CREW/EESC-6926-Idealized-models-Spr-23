{
 "cells": [
  {
   "cell_type": "markdown",
   "id": "b0cbf633-a4a8-4726-868a-822e19103aaf",
   "metadata": {},
   "source": [
    "### Radiative-convective equilibrium as an idealized problem for climate\n",
    "\n",
    "Imagine a pot of water on a stove, heated from below. As the water in the bottom of the pot warms it becomes less dense than the water above it and rises, causing the water to overturn (circulate in the vertical). Cooling from the top can also cause an overturning circulation - this is what you see in a bowl of miso soup. Any temperature profile in which deeper water is warmer than shallow water is \"unstable\" in this way, and will mix in the vertical. The vertical water motions are called \"convection\". \n",
    "\n",
    "The earth's atmosphere differs from a bowl of miso soup in three important ways (for the purposes of this discussion). \n",
    "\n",
    "First, the atmosphere is compressible, meaning that the pressure decreases roughly exponentially with distance from the surface. Conservation of energy means that the temperature of the air also has to decrease with height. This means that the condition of stability isn't \"is the air below a given location warmer/less dense than the air at the location\" but rather \"will the air below **be**  warmer/less dense if it's raised to the location?\" (In the atmospheric sciences it's common to use a \"potential temperature\" that accounts for this energy-conserving relationship between pressure and temperature.) \n",
    "\n",
    "Second, the atmosphere contains water vapor. The maximum amount of water vapor is controlled by temperature. When air cools enough, then, the water vapor condenses, which gives off energy. This means that the temperature profile in which water is condensing (i.e. inside a cloud) cools less rapidly with height than does dry air. Two consequences are a) that convection in the atmosphere is a balances of small regions of strong, upward motion in which water is condensing (clouds!) surrounded by large regions of gentle downward motion with no clouds. A second is that the stabiity condition is phrased with respect to motions in which water is condensing - a less stringent threshold than a dry atmosphere. \n",
    "\n",
    "Finally, unlike soup cooled from the top surface, the atmosphere cools throughout its depth, because water vapor is an effective emitter of longwave radiation. \n",
    "\n",
    "**Radiative-convective equilibrium** is very simple representation of the earth's climate, in which the radiative cooling of the atmosphere is balanced by convective motions. "
   ]
  },
  {
   "cell_type": "markdown",
   "id": "40a56563-11e6-464c-8c54-4e2c74df5df9",
   "metadata": {},
   "source": [
    "### Background on konrad \n",
    "\n",
    "`konrad` is a modern implementation of a single-column radiative-convective equilibrium model. The convective motions aren't explicit - instead, as the cooling makes the atmosphere unstable, the temperature and moisture profiles are adjusted to reflect vertical mixing in an energy-conserving way to maintain a stable profile. \n",
    "\n",
    "In other sections of the course you'll be using very small models for which it will be straightforward enough to read the entire implementation. `konrad` is more involved so the focus will be on framing and answering questions and interpreting the results. \n",
    "\n",
    "The model's technical documention -- lists of all the components and functions -- is available on [ReadTheDocs](https://konrad.readthedocs.io). The konrad authors' [\"How to konrad\"](https://atmtools.github.io/konrad) Jupyter book is a tutorial in using the model. All the questions we asked below are found in the tutorial but you should arrive at your own answers. "
   ]
  },
  {
   "cell_type": "markdown",
   "id": "1a7e4982-7f13-4388-a357-46ee4ebd6e63",
   "metadata": {},
   "source": [
    "### The assignment\n",
    "\n",
    "In the next two labs we will use konrad to explore questions of climate, including characterizing forcing, feedbacks, and climate sensitivty. Much of the material is covered in  Kluft et al. 2019, Re-examining the first climate models: climate sensitivity of a modern radiative–convective equilibrium model, doi:[10.1175/JCLI-D-18-0774.1](https://doi.org/10.1175/JCLI-D-18-0774.1).\n",
    "\n",
    "We'll start by importing the Python modules needed including the `konrad` model itself"
   ]
  },
  {
   "cell_type": "code",
   "execution_count": null,
   "id": "64bf4168-b482-4e78-bcfc-4a8341c56057",
   "metadata": {},
   "outputs": [],
   "source": [
    "# Import needed Python modules \n",
    "import matplotlib.pyplot as plt\n",
    "# import seaborn as sns\n",
    "# import colorcet as cc\n",
    "\n",
    "import numpy as np\n",
    "\n",
    "import konrad"
   ]
  },
  {
   "cell_type": "markdown",
   "id": "48bb9c02-15be-4bfb-a0db-9baf98778abd",
   "metadata": {},
   "source": [
    "#### Preliminaries\n",
    "\n",
    "The konrad developers have provided many of the pieces needed to specify and compute a radiative-convective equilibrium problem. The first step is to decide on a vertical pressure grid and create an atmosphere discretized on this grid. "
   ]
  },
  {
   "cell_type": "code",
   "execution_count": null,
   "id": "080d49c3-81b1-4eed-8217-e9728616066d",
   "metadata": {},
   "outputs": [],
   "source": [
    "# Choose pressure levels according to Equation 1 in Kluft et al. 2019 \n",
    "# https://konrad.readthedocs.io/_autosummary/konrad.utils.get_quadratic_pgrid.html#konrad.utils.get_quadratic_pgrid\n",
    "phlev = konrad.utils.get_quadratic_pgrid(1000e2, 10, 128) \n",
    "phlev # note units are pressure in Pa"
   ]
  },
  {
   "cell_type": "markdown",
   "id": "2d344608-bbfa-4fed-bb06-3b098b7ce0d5",
   "metadata": {},
   "source": [
    "Define an atmosphere on this grid"
   ]
  },
  {
   "cell_type": "code",
   "execution_count": null,
   "id": "d983cd8a-81f1-4363-8cd8-9d04211bf47a",
   "metadata": {},
   "outputs": [],
   "source": [
    "# Initial temperature profiles and composition \n",
    "atmosphere = konrad.atmosphere.Atmosphere(phlev)\n",
    "atmosphere.atmosphere_variables"
   ]
  },
  {
   "cell_type": "markdown",
   "id": "4ebfb8b4-9393-4df9-a8d9-bfadf2fb79d0",
   "metadata": {},
   "source": [
    "First let's ensure set the CO$_2$ concentration to pre-industrial values. `konrad` will update the temperature and humidity `atmosphere` object as it runs so we'll save as copy as initial conditions"
   ]
  },
  {
   "cell_type": "code",
   "execution_count": null,
   "id": "cfa66118-0054-4e69-9016-a9005cac3d4d",
   "metadata": {},
   "outputs": [],
   "source": [
    "atmosphere[\"CO2\"][:] = 280E-6\n",
    "initial_conds = atmosphere.copy()"
   ]
  },
  {
   "cell_type": "markdown",
   "id": "f80622c4-5768-4e6e-b3f6-1ff9c4853d6e",
   "metadata": {},
   "source": [
    "konrad defines an RCE calculation as a [set of choices](https://konrad.readthedocs.io/_autosummary/konrad.core.RCE.__init__.html). Many of the most important choices (radiation, ozone, humidity, surface, cloud, convection/vertical mixing, lapse rate, and large-scale upwelling) are specified as functions rather than discrete values. Start with the default configuation: "
   ]
  },
  {
   "cell_type": "code",
   "execution_count": null,
   "id": "d7f8904a-8d92-49af-a035-82853dfc3fe0",
   "metadata": {},
   "outputs": [],
   "source": [
    "baseline = konrad.RCE(atmosphere)"
   ]
  },
  {
   "cell_type": "markdown",
   "id": "1a6f4b9d-049e-471f-b3ed-8bee6d7fef56",
   "metadata": {},
   "source": [
    "Many of the sub-models have variables associated with them. The radiation sub-model, for example, has fluxes of longwave (`lw`) and shortwave (`sw`) radiation up and down (`u`, `d`), along with heating rates. There are no clouds in our simulation so we can ignore the clear-sky values.  "
   ]
  },
  {
   "cell_type": "code",
   "execution_count": null,
   "id": "b466654e-6f1a-4bbb-ad21-83aaca4bc800",
   "metadata": {},
   "outputs": [],
   "source": [
    "baseline.radiation.data_vars "
   ]
  },
  {
   "cell_type": "markdown",
   "id": "271099d8-0ab1-4f1a-ab11-54a93c992fd2",
   "metadata": {},
   "source": [
    "Two interleaved grids are used in the vertical: state variables (temperature, concentration, humidity) are on full levels (`plev`), while fluxes (especially radiation variables) are on half-levels (`phlev`). The surface air is at `phlev[0]`; the top of the atmosphere is `phlev[-1]`  and there's one more half-level than full level. "
   ]
  },
  {
   "cell_type": "code",
   "execution_count": null,
   "id": "109a6106-b79f-4597-af1f-fe465b128e51",
   "metadata": {},
   "outputs": [],
   "source": [
    "phlev[0], phlev[-1]"
   ]
  },
  {
   "cell_type": "markdown",
   "id": "706aac7f-1cf8-43c1-b600-c8dd5e71abab",
   "metadata": {},
   "source": [
    "Variables are undefined until the model is run, normally to convergence, which takes about 10 seconds on the LEAPangeo hub"
   ]
  },
  {
   "cell_type": "code",
   "execution_count": null,
   "id": "56a881cc-409f-4970-830d-88821eaf6031",
   "metadata": {},
   "outputs": [],
   "source": [
    "baseline.run() "
   ]
  },
  {
   "cell_type": "markdown",
   "id": "ba13551f-fa0f-446d-b7e4-c284c3690130",
   "metadata": {},
   "source": [
    "Variables will now have valid values. The first axis is time but, by default, only the values at equilibrium are available: "
   ]
  },
  {
   "cell_type": "code",
   "execution_count": null,
   "id": "4759f859-2bca-450c-ad80-b87222690245",
   "metadata": {},
   "outputs": [],
   "source": [
    "baseline.radiation[\"lw_flxu\"].shape"
   ]
  },
  {
   "cell_type": "markdown",
   "id": "c874586d-da40-4621-860b-a370da51ef15",
   "metadata": {},
   "source": [
    "Remember, `konrad.atmosphere` and the `atmosphere` are the same (they \"point to the same memory\")"
   ]
  },
  {
   "cell_type": "code",
   "execution_count": null,
   "id": "35d72f8a-d1d5-451c-9c7d-4edd439badcd",
   "metadata": {},
   "outputs": [],
   "source": [
    "print(np.max(atmosphere['T'] - baseline.atmosphere['T']))"
   ]
  },
  {
   "cell_type": "markdown",
   "id": "b78cccfe-d99d-47e3-b18c-2cb12756d40b",
   "metadata": {},
   "source": [
    "**The atmosphere in RCE**: We can, for example, plot the arbitrary initial and final equilibrium profiles of temperature. We'll plot these as a function of pressure, which varies over three orders of magnitude (so we use a log scale) and decreases as altitide increases (so we'll plot an inverted y-axis, limiting to pressures higher than 1 hPa). \n",
    "<a id='temp_profiles'></a>"
   ]
  },
  {
   "cell_type": "code",
   "execution_count": null,
   "id": "10b3d648-7bd5-409c-bf0c-0ba894233425",
   "metadata": {},
   "outputs": [],
   "source": [
    "# sns.set_context(\"paper\")\n",
    "\n",
    "fig, (ax0, ax1) = plt.subplots(ncols=2, figsize=[12, 6], sharey=True)\n",
    "ax0.semilogy(initial_conds['T'][0,:], initial_conds['plev'], label = \"Initial\")\n",
    "ax0.semilogy(atmosphere   ['T'][0,:], initial_conds['plev'], label = \"RCE\")\n",
    "ax0.set_ylim(phlev[0], 100.) \n",
    "ax0.set_ylabel(\"$p$ / Pa\")\n",
    "ax0.set_xlabel(\"$T$ / K\")\n",
    "ax0.legend(frameon = False)\n",
    "\n",
    "ax1.semilogy(initial_conds['H2O'][0,:], initial_conds['plev'])\n",
    "ax1.semilogy(atmosphere   ['H2O'][0,:], initial_conds['plev'])\n",
    "ax1.set_xlabel(\"water vapor / kg/kg\")\n",
    "\n",
    "# sns.despine() "
   ]
  },
  {
   "cell_type": "markdown",
   "id": "73e473d4-39ff-47e7-8784-3cda4d70597b",
   "metadata": {},
   "source": [
    "**Radiation in RCE**: What does the energy budget look like in the baseline RCE state? We can plot the four components of the radiation budget: up- and down-going radiation for solar (shortwave or sw) and terrestrial (longwave or lw) radiation. The radiation model also tells us the net heating rate. "
   ]
  },
  {
   "cell_type": "code",
   "execution_count": null,
   "id": "b575db9c-f98f-4d54-89bb-6119f885591f",
   "metadata": {},
   "outputs": [],
   "source": [
    "# If we were doing this for publication we'd assign each variable a distinct color, different from plots above and below\n",
    "\n",
    "# sns.set_context(\"paper\")\n",
    "\n",
    "fig, (ax0, ax1) = plt.subplots(ncols=2, figsize=[12, 6], sharey=True)\n",
    "# Loop over the four fluxes that make up the \n",
    "for v in ['lw_flxd', 'lw_flxu', 'sw_flxd', 'sw_flxu']:\n",
    "    ax0.semilogy(baseline.radiation[v][0,:], initial_conds['phlev'], label=v)\n",
    "ax0.set_ylabel(\"$p$ / hPa\")\n",
    "ax0.set_xlabel(\"$F$ / Wm$^{-2}$\")\n",
    "ax0.legend(frameon = False) \n",
    "ax0.set_ylim(phlev[0], 100.) \n",
    "\n",
    "\n",
    "ax1.semilogy(baseline.radiation['net_htngrt_clr'][0,:],       initial_conds['plev'])\n",
    "ax1.set_ylabel(\"$p$ / hPa\")\n",
    "ax1.set_xlabel(\"$\\mathcal{H}$ / K d$^{-1}$\")\n",
    "ax1.axvline(0, color=\"0.05\")\n",
    "# sns.despine() "
   ]
  },
  {
   "cell_type": "markdown",
   "id": "68620b45-edef-4b16-9b77-e8cc12a22ab0",
   "metadata": {},
   "source": [
    "Compare the down-going and up-going amounts of solar and terrestrial radiation. Do you understand why they have the relative values they do?  \n",
    "\n",
    "At pressures greater than 1000 Pa, or 100 hPa, i.e. in the lowest 90% of mass in the atmopheres, there's a non-zero radiative cooling rate of roughly 1 $K/d$. That's the cooling that's making the atmosphere unstable and leading to convection. \n",
    "\n",
    "The upper part of the atmosphere -- the stratosphere and above -- is in radiative equilibrium. \n",
    "\n",
    "What is the total top-of-atmosphere energy imbalance? You'll see it's far from 0, meaning that the tropical region represented by RCE absorbs more sunlight than it emits, on average. On earth this energy is exported from the tropics towards the poles by the atmospheric and oceanic circulations. "
   ]
  },
  {
   "cell_type": "markdown",
   "id": "1a0da6ff-9f26-4480-83f4-718cf9d53ddd",
   "metadata": {},
   "source": [
    "#### Question 1 \n",
    "What is the temperature struture of the (tropical) atmosphere under present-day conditions (that's the figure above), and how does this depend on surface temperature and humidity ?"
   ]
  },
  {
   "cell_type": "markdown",
   "id": "11313566-03f6-4972-a574-045dc7a7843c",
   "metadata": {},
   "source": [
    "**Surface temperature**: By [default](https://konrad.readthedocs.io/_autosummary/konrad.core.RCE.html) konrad uses a [fixed surface temperature of 288 K](https://konrad.readthedocs.io/_autosummary/konrad.surface.FixedTemperature.html#konrad.surface.FixedTemperature). This can be changed by specifying a different surface temperaure when setting up the RCE calculation:  "
   ]
  },
  {
   "cell_type": "code",
   "execution_count": null,
   "id": "9f117919-9a23-427b-a9bb-82be0be07fe0",
   "metadata": {},
   "outputs": [],
   "source": [
    "pert_Ts_286 = konrad.RCE(atmosphere = initial_conds.copy(), \n",
    "                         surface=konrad.surface.FixedTemperature(temperature=286))\n",
    "pert_Ts_286.run()"
   ]
  },
  {
   "cell_type": "code",
   "execution_count": null,
   "id": "7a97f49a-d552-4d4c-9d12-910ea5d6594b",
   "metadata": {},
   "outputs": [],
   "source": [
    "print(\"Near-surface temp in baseline:  \", f'{baseline.atmosphere   [\"T\"][0, 0]:6.4}') \n",
    "print(\"Near-surface temp for T_s = 286:\", f'{pert_Ts_286.atmosphere[\"T\"][0, 0]:6.4}') "
   ]
  },
  {
   "cell_type": "markdown",
   "id": "44e08fb8-d2ec-4620-a81a-16295c70ffac",
   "metadata": {},
   "source": [
    "**Humidity**: By default konrad assumes a constant relative humidity of 80% in the lower part of the atmosphere and a constant specific humdity (water vapor concentration, or absolute humidity) in the stratosphere -- a reasonable simplification to the real world. "
   ]
  },
  {
   "cell_type": "code",
   "execution_count": null,
   "id": "9817231e-2df7-4786-9e65-171d751431fd",
   "metadata": {},
   "outputs": [],
   "source": [
    "pert_rh_05 = konrad.RCE(atmosphere = initial_conds.copy(), \n",
    "                         humidity=konrad.humidity.FixedRH(konrad.humidity.VerticallyUniform(0.5)))\n",
    "pert_rh_05.run()"
   ]
  },
  {
   "cell_type": "code",
   "execution_count": null,
   "id": "85a84a69-a87e-4af7-b907-7ac3fd6b1526",
   "metadata": {},
   "outputs": [],
   "source": [
    "print(\"Near-surface water vapor in baseline: \", f'{baseline.atmosphere   [\"H2O\"][0, 0]*1000:4.3} g/kg') \n",
    "print(\"Near-surface water vapor for RH = 50%:\", f'{pert_rh_05 .atmosphere[\"H2O\"][0, 0]*1000:4.3} g/kg') "
   ]
  },
  {
   "cell_type": "markdown",
   "id": "57df52f3-7da6-476f-8f8b-fccc1732b9c9",
   "metadata": {},
   "source": [
    "**Please**\n",
    "\n",
    "- Following the [example above](#temp_profiles), plot the vertical structure of temperature for several values of surface temperature and humidity. It'll be more interesting to plot the difference from the surface temperature so all the figures are on the same scale\n",
    "- The \"lapse rate\" is the change in temperature with height or pressure. Does this depend on the initial surface temperature? On the humidity? "
   ]
  },
  {
   "cell_type": "markdown",
   "id": "9e18c901-3229-47b3-bab9-fa764e82039a",
   "metadata": {},
   "source": [
    "#### Question 2\n",
    "What is the instantaneous radiative forcing due to doubling CO$_2$ concentrations from pre-industrial values, and how does this depend on humidity and temperature? "
   ]
  },
  {
   "cell_type": "markdown",
   "id": "2a1071d6-082d-4ba4-b74e-0432bb5231e7",
   "metadata": {},
   "source": [
    "First it'll be useful to write a function that tells us the net downward radiation (down minus up, both shortwave and longwave) "
   ]
  },
  {
   "cell_type": "code",
   "execution_count": null,
   "id": "a7f6a73d-bde5-4942-bbba-e9de5e2a11d5",
   "metadata": {},
   "outputs": [],
   "source": [
    "def compute_N(konrad_instance): \n",
    "    \"\"\"\n",
    "    Compute net downward radiation from down- and up-going longwave and shortwave radiation \n",
    "    \"\"\"\n",
    "    return(konrad_instance.radiation[\"lw_flxd\"] - konrad_instance.radiation[\"lw_flxu\"] + \n",
    "           konrad_instance.radiation[\"sw_flxd\"] - konrad_instance.radiation[\"sw_flxu\"])"
   ]
  },
  {
   "cell_type": "markdown",
   "id": "f6020a4a-24a8-4af4-a62c-eca11a3f7688",
   "metadata": {},
   "source": [
    "**Computing radiation fields**: Each component of konrad can be run on its own, so we can compute the instantaneous radiative forcing $F_i$ as the change in net radiation cased by a change in CO$_2$ concentration, i.e. "
   ]
  },
  {
   "cell_type": "code",
   "execution_count": null,
   "id": "65fac732-4fc2-4bf7-9c6a-7ee871f8022e",
   "metadata": {},
   "outputs": [],
   "source": [
    "# Re-equilibrate the temperature and humidity fields to baseline conditions\n",
    "# What is the profile of net radiation under baseline conditions? \n",
    "N_prof = compute_N(baseline)\n",
    "\n",
    "# Calculate OLR at perturbed atmospheric state.\n",
    "atmos_2xCO2 = initial_conds.copy() \n",
    "# double the CO2 concentration\n",
    "atmos_2xCO2[\"CO2\"][:] *= 2\n",
    "\n",
    "# Compute new radiation fields with changing temperature or humidity \n",
    "baseline.radiation.update_heatingrates(atmos_2xCO2)\n",
    "\n",
    "# The change in the net radiation field as a function of pressure \n",
    "inst_rad_forcing = (compute_N(baseline) - N_prof)[0,:]"
   ]
  },
  {
   "cell_type": "markdown",
   "id": "6ad9b1f0-8ec9-486f-af03-d95641158c8e",
   "metadata": {},
   "source": [
    "- Plot the profiles of $F_i$ for the baseline case\n",
    "- Plot the dependence of $F_i$ at the top of the atmosphere on surface temperature and/or humidity for several values of each variable"
   ]
  },
  {
   "cell_type": "markdown",
   "id": "6327f524-4540-45e3-81b7-03d8f9bfbeb0",
   "metadata": {},
   "source": [
    "#### Question 3 \n",
    "What is the effective radiative forcing due to doubling CO2 concentrations from pre-industrial values, and what is the relationship between stratospheric cooling and the radiative adjustment? "
   ]
  },
  {
   "cell_type": "markdown",
   "id": "cecd2272-5545-4a9a-8117-41eec1485695",
   "metadata": {},
   "source": [
    "Effective radiative forcing $F$ is the change in N (normally at the top of the atmosphere) allowing all aspects of the system _except the surface temperature_ to respond to the forcing agent. Recall, though, that konrad specifices surface temperature as fixed, so $F$ can be computed by changing CO$_2$ concentrations, running the model to equilirium with the same surface temperture, and comparing the net radiation to the unperturbed state. "
   ]
  },
  {
   "cell_type": "markdown",
   "id": "c132ff9b-27c4-4e17-a5bf-a6060f5c342a",
   "metadata": {},
   "source": [
    "- Compute the effective radiative forcing for CO$_2$ concentrations doubled from pre-industrial concentrations (e.g. from 280 -> 560 ppmv). Compare the profile of the effective radiative forcing to the profile of instantaneous radiative forcing in question 3. \n",
    "- What fraction of $F$ is the adjustment by stratospheric cooling? \n",
    "- Plot the stratospheric adjustment - the change in stratospheric temperature profiles - for 2$\\times$CO$_2$ and 0.5$\\times$CO$_2$.\n",
    "- Plot the top-of-atmosphere ERF for several values of surface temperature and/or humidity. Is the dependence the same as for $F_i$? "
   ]
  },
  {
   "cell_type": "markdown",
   "id": "b66609d5-ab52-4ae0-95eb-d654ba2a078d",
   "metadata": {},
   "source": [
    "#### Question 4\n",
    "\n",
    "What is the climate sensitivity in radiative-convective equlibrium, and how does this depend on humidity and/or initial surface temperature? "
   ]
  },
  {
   "cell_type": "markdown",
   "id": "b2152cbc-16c8-44c9-b799-a3ab259818b4",
   "metadata": {},
   "source": [
    "**Climate sensitivity, method 1**\n",
    "\n",
    "Estimate climate sensitivty by computing the climate feedback and combining this with estimates of forcing by doubled CO2 contentrations. \n",
    "\n",
    "- Establish one or more baseline simulations of RCE, similar to those used in question 1, but varying humidity and/or surface temperature.  \n",
    "- Change the surface temperature, compute the change in top-of-atmosphere net radiation $N$, and the climate feedback $\\lambda = \\frac{d N}{d T_s}$. Does $\\lambda$ depend on humidity or surface temperature? \n",
    "- Estimate climate sensitivity $S$ from the effective radiative forcing (Question 3) and the climate feedback $S = \\frac{F_{2\\times CO_2}}{\\lambda}$\n",
    "<a id='S_from_lambda_F'></a>"
   ]
  },
  {
   "cell_type": "markdown",
   "id": "9fcf866d-bf6b-4ab9-90a1-c4caa408b846",
   "metadata": {},
   "source": [
    "**Climate sensitivity, method 2**\n",
    "\n",
    "Another way to compute climate sensitity is by changing CO$_2$ concentrations and running to equilibrium while letting the surface temperature evolve. For this we have to specify a different model of the surface: a \"slab ocean\", meaning a heat resevoir scaled to the capacity of a shallow layer of water, with a heat sink that allows the model to come into balance with a specified surface temperature. From "
   ]
  },
  {
   "cell_type": "code",
   "execution_count": null,
   "id": "60a38aa5-df0e-4b65-87b0-3100018c5014",
   "metadata": {},
   "outputs": [],
   "source": [
    "#\n",
    "#  Run the model with specified surface temperature to compute the total imbalance \n",
    "#\n",
    "fixed_SST = konrad.RCE(\n",
    "    initial_conds.copy(),\n",
    "    surface=konrad.surface.FixedTemperature(temperature=295.0),\n",
    ")\n",
    "fixed_SST.run()  \n",
    "print(\"Near-surface temp with fixed surface temperature:  \", f'{fixed_SST.atmosphere   [\"T\"][0, 0]:6.4}') \n",
    "\n",
    "ml_ocean = konrad.surface.SlabOcean(\n",
    "    temperature=295.0,\n",
    "    heat_sink=fixed_SST.radiation[\"toa\"][-1],\n",
    "    depth=10.,\n",
    ")\n",
    "\n",
    "#\n",
    "# A slab ocean model with a heat sink that matches the imbalance should have nearly the same surface air temperature \n",
    "#\n",
    "slab_ocean = konrad.RCE(\n",
    "    fixed_SST.atmosphere.copy(),\n",
    "    surface=ml_ocean,\n",
    "    timestep='12h',\n",
    "    max_duration='300d',  # Set runtime.\n",
    ")\n",
    "slab_ocean.run()\n",
    "print(\"Near-surface temp with slab ocean:\", f'{slab_ocean.atmosphere[\"T\"][0, 0]:6.4}') \n"
   ]
  },
  {
   "cell_type": "markdown",
   "id": "f7f25441-6dfd-44a1-a4ac-66854410244d",
   "metadata": {},
   "source": [
    "- From the baseline simulations, increasing $CO_2$ concentrations by a factor of 2 and run to equilibrium. (See [How to konrad]. (https://atmtools.github.io/konrad/feedback.html)) How long must you run the simulation for the temperature to equilibrate (reach a stable value?)\n",
    "- How do estimates of $S$ compare to those estimated [more indirectly](#S_from_lambda_F)? \n",
    "- How do estimates of $\\lambda$ inferred from $S$ and $F$ compare to those estimated from changing surface temperature? "
   ]
  }
 ],
 "metadata": {
  "kernelspec": {
   "display_name": "Python 3 (ipykernel)",
   "language": "python",
   "name": "python3"
  },
  "language_info": {
   "codemirror_mode": {
    "name": "ipython",
    "version": 3
   },
   "file_extension": ".py",
   "mimetype": "text/x-python",
   "name": "python",
   "nbconvert_exporter": "python",
   "pygments_lexer": "ipython3",
   "version": "3.10.8"
  }
 },
 "nbformat": 4,
 "nbformat_minor": 5
}
