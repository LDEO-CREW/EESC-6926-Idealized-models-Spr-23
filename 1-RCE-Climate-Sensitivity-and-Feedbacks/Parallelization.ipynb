{
 "cells": [
  {
   "cell_type": "code",
   "execution_count": null,
   "id": "c95bb803-7d62-4409-95bd-e4f3042805c5",
   "metadata": {},
   "outputs": [],
   "source": [
    "import copy\n",
    "import numpy as np\n",
    "import konrad"
   ]
  },
  {
   "cell_type": "code",
   "execution_count": null,
   "id": "fc5a4f93-e276-4786-b26e-089378969471",
   "metadata": {},
   "outputs": [],
   "source": [
    "#\n",
    "# Used in examples below\n",
    "#\n",
    "atmosphere = konrad.atmosphere.Atmosphere(konrad.utils.get_quadratic_pgrid(1000e2, 10, 128))\n",
    "atmosphere[\"CO2\"][:] = 280E-6\n",
    "initial_conds = atmosphere.copy()"
   ]
  },
  {
   "cell_type": "markdown",
   "id": "d5080ecd-2cef-4aff-b148-aa541df6d6ed",
   "metadata": {},
   "source": [
    "### Example: storing RCE solutions for varying surface T, relative humidity"
   ]
  },
  {
   "cell_type": "code",
   "execution_count": null,
   "id": "db273931-4126-4f7c-9a12-fd746f72dbb0",
   "metadata": {},
   "outputs": [],
   "source": [
    "def make_key(T = 294, RH = 0.8): \n",
    "    return(f'{T}K_{RH*100}%') "
   ]
  },
  {
   "cell_type": "code",
   "execution_count": null,
   "id": "3c65e8b4-0375-4172-ab35-ba92d3d737d4",
   "metadata": {},
   "outputs": [],
   "source": [
    "Tss = [273, 288, 294, 300, 305]\n",
    "RHs = [.1, .25, .5, .75, .9]"
   ]
  },
  {
   "cell_type": "code",
   "execution_count": null,
   "id": "a67e3431-4993-4ee7-bed2-6479dff2286b",
   "metadata": {},
   "outputs": [],
   "source": [
    "rces = {}\n",
    "for Ts in Tss:\n",
    "    for RH in RHs: \n",
    "        k = make_key(T=Ts, RH=RH)\n",
    "        print(k) \n",
    "        rces[k] = konrad.RCE(initial_conds.copy(), \n",
    "                             surface=konrad.surface.FixedTemperature(temperature=Ts), \n",
    "                             humidity=konrad.humidity.FixedRH(konrad.humidity.VerticallyUniform(RH)), \n",
    "        )\n",
    "        rces[k].run()"
   ]
  }
 ],
 "metadata": {
  "kernelspec": {
   "display_name": "Python 3 (ipykernel)",
   "language": "python",
   "name": "python3"
  },
  "language_info": {
   "codemirror_mode": {
    "name": "ipython",
    "version": 3
   },
   "file_extension": ".py",
   "mimetype": "text/x-python",
   "name": "python",
   "nbconvert_exporter": "python",
   "pygments_lexer": "ipython3",
   "version": "3.10.8"
  }
 },
 "nbformat": 4,
 "nbformat_minor": 5
}
