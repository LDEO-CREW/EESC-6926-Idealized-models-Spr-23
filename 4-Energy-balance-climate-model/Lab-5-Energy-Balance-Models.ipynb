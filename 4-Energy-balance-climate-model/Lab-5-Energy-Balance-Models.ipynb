{
 "cells": [
  {
   "cell_type": "markdown",
   "id": "3a8b2fe4",
   "metadata": {},
   "source": [
    "# Lab 5: One-dimensional energy balance model \n",
    "\n",
    "Developed by Michael Previdi, Arlene Fiore, Galen McKinley"
   ]
  },
  {
   "cell_type": "markdown",
   "id": "d0083bea",
   "metadata": {},
   "source": [
    "In this lab, we will consider the Budyko (1969, https://doi.org/10.1111/j.2153-3490.1969.tb00466.x) one-dimensional energy balance model (EBCM) in the form:\n",
    "\n",
    "$$ \\frac{Q}{4}s(x)[1-\\alpha(x)] = A + B T(x) + C(T(x) - \\bar{T})$$ \n",
    "\n",
    "where $Q$ is the solar constant; $s(x)$ is the distribution function for insolation; $x$ is the sine of latitude; $\\alpha_p(x$) is the top-of-atmosphere albedo; $A, B$ and $C$ are constant coefficients; and $T(x)$ is the surface temperature (in degrees C), with an overbar indicating a global average.\n",
    "\n",
    "As you complete this lab, it is essential that you explain the underlying physical processes and that you do so in your own words. Try to be patient with this material – most students find it to be time-consuming to develop the needed physical understanding.\n"
   ]
  },
  {
   "cell_type": "markdown",
   "id": "429e962b",
   "metadata": {},
   "source": [
    "### Question 1\n",
    "Run the notebook “Budyko_EBCM.ipynb” to compute the EBCM solution using default parameters. (Default parameters and key equations are also below.)"
   ]
  },
  {
   "cell_type": "markdown",
   "id": "9043f5bb",
   "metadata": {},
   "source": [
    "### Question 2: The Global Stability Point (GSP)\n",
    "- At what latitude is the GSP?\n",
    "- What is the physical meaning of the GSP?\n",
    "- How much must the solar constant decrease to reach the GSP? Express this answer as a percentage."
   ]
  },
  {
   "cell_type": "markdown",
   "id": "0e9166cd",
   "metadata": {},
   "source": [
    "### Question 3 \n",
    "\n",
    "Mathematically, what are the equilibrium solutions, in degrees latitude, of the ice-line for $Q/Q_0 = 1$? Which of these equilibrium points are physically meaningful?"
   ]
  },
  {
   "cell_type": "markdown",
   "id": "88d48f0d",
   "metadata": {},
   "source": [
    "### Question 4\n",
    "What solar constant change is required to fully deglaciate the planet? Use 85N as a proxy for complete deglaciation. Express your answer as a percentage of $Q$."
   ]
  },
  {
   "cell_type": "markdown",
   "id": "aa4b02fc",
   "metadata": {},
   "source": [
    "### Question 5: Change and explain model sensitivity\n",
    "- Describe in words the physical meaning of the parameters $B$ and $C$.\n",
    "- Vary $B$ from its default values and assess how the model solution changes. Consider values of -50%, +50% and +100% and create a plot that compares these solutions to the original default parameter for B.\n",
    "- Why does the polar ice cap become more or less sensitive to variations in the solar constant $Q$ when $B$ changes?\n",
    "- Now vary the parameter $C$ from its default values and assess how the model solution changes. Consider values of -50%, +50% and +100% and create a plot that compares these solutions to the default model.\n",
    "- Why does the polar ice cap become more or less sensitive to variations in the solar constant $Q$ when $C$ changes?\n",
    "\n",
    "Please answer in your own words. In-class discussion will be helpful – please make sure you develop a clear understanding through these discussions, or set up a follow- up meeting. "
   ]
  },
  {
   "cell_type": "markdown",
   "id": "eb3620be",
   "metadata": {},
   "source": [
    "### Question 6: Global mean temperature \n",
    "\n",
    "Manipulate the equations to find the global mean temperature and the ice-line latitude as a function of variations in solar radiation expressed as the ratio of the perturbed to initial (modern) incoming radiation ($Qrat = Q/Q0$) . There is a spot in the subroutine “get_globalT(self,input_x,input_Qrat):” to input this.\n",
    "\n",
    "- At the end of the script, code for running and plotting exists that can be un-commented.\n",
    "- Return parameters to their default values.\n",
    "- What global-mean temperature change accompanies an equatorward displacement of the ice-line from the default stable ice-line to the GSP?\n",
    "- Plot the variation of global-mean surface temperature with sin of the ice-line latitude. Explain.\n",
    "\n",
    "Hint: To compute the global mean temperature change, use the global average of the first equation in this notebook along with the following expression for the planetary albedo:\n",
    "$$\\alpha_p(x_s) = \\alpha_2 + (\\alpha_1 - \\alpha_2)[x_s + \\frac{s_2}{5}(P_3(x_s)- P_1(x_s))]$$\n",
    "where $x_s$ is the sine of ice-line latitude and $P_1(x_s)$ and $P_3(x_s)$ are the first and third Legendre polynomials, given by $P_1(x_s) = x_s$ and $P_3(x_s) = 0.5(5 x_s^3 – 3x_s)$. For parameter values you might use $\\alpha_1$ = 0.3 (\"ice-free\"), $\\alpha_2$ = 0.6 (\"ice-covered\"), and $s_2 = -0.482$; "
   ]
  }
 ],
 "metadata": {
  "kernelspec": {
   "display_name": "Python 3 (ipykernel)",
   "language": "python",
   "name": "python3"
  },
  "language_info": {
   "codemirror_mode": {
    "name": "ipython",
    "version": 3
   },
   "file_extension": ".py",
   "mimetype": "text/x-python",
   "name": "python",
   "nbconvert_exporter": "python",
   "pygments_lexer": "ipython3",
   "version": "3.10.9"
  }
 },
 "nbformat": 4,
 "nbformat_minor": 5
}
