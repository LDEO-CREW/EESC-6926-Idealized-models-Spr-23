{
 "cells": [
  {
   "cell_type": "markdown",
   "metadata": {},
   "source": [
    "This code is intended to be added to ocean_surface_abiotic_carbon_comparison_annual_McKinley2020.ipynb \n",
    "for Part II of Lab 4. It will not run on its own. \n",
    "\n",
    "03.01.2021 EESC 6926 at Columbia University / Lamont Doherty Earth Observatory"
   ]
  },
  {
   "cell_type": "markdown",
   "metadata": {},
   "source": [
    "This code will run model and save ouput flux vector into \"SaveRun\" your output so that you can then plot all "
   ]
  },
  {
   "cell_type": "code",
   "execution_count": null,
   "metadata": {},
   "outputs": [],
   "source": [
    "## RUN BOX MODEL and SAVE FOR PLOTTING\n",
    "# RUN MODEL\n",
    "t, conc, flux_box, pco2_ocean, pco2atm = boxmodel.integrate_tracer(volcano_on=1,linear_pco2atm=0)\n",
    "# CONVERT MONTHLY BOX MODEL TO ANNUAL TO COMPARE\n",
    "nyear = 58\n",
    "flux_box_an = np.zeros((nyear))\n",
    "for n in range(0,nyear):\n",
    "    flux_box_an[n] = np.mean(flux_box[12*n+1:(n+1)*12])\n",
    "year = np.linspace(1960.5,2017.5,num=nyear)\n",
    "# Now add another row to the array where you are saving your runs\n",
    "SaveRun = np.vstack([SaveRun,flux_box_an])"
   ]
  },
  {
   "cell_type": "markdown",
   "metadata": {},
   "source": [
    "Use this to plot against other estimates from data and models one at a time. It will plot the box model output run immediately before."
   ]
  },
  {
   "cell_type": "code",
   "execution_count": null,
   "metadata": {},
   "outputs": [],
   "source": [
    "# Plot for 1982 to present to compare. \n",
    "# Manually setting length of vectors to plot\n",
    "plt.figure(figsize=[8,6])\n",
    "lab1, = plt.plot(year[22:58],flux_box_an[22:58],'red',label = 'box model')\n",
    "lab2, = plt.plot(year[22:57],flux_model_noclim[22:57],'black',label = 'hincast model, constant climate')\n",
    "lab3, = plt.plot(year[22:58],flux_model[22:58],'blue',label = 'hincast model, historical climate')\n",
    "lab4, = plt.plot(year[22:58],flux_obs_prod,'green',label = 'observation product')\n",
    "plt.title('1982-2017 Air-sea Flux Comparison ', fontsize=12)\n",
    "plt.xlabel('years',fontsize=12)\n",
    "plt.ylabel('Flux (PgC/yr)', fontsize=12)\n",
    "plt.legend(handles=[lab1, lab2, lab3, lab4])\n",
    "plt.ylim(-3,-1.3)"
   ]
  },
  {
   "cell_type": "markdown",
   "metadata": {},
   "source": [
    "For Part II, once you have run the 4 scenarios and saved to \"SaveRun\", this will plot all against the other estimates. \n",
    "\n",
    "Make sure you clear the SaveRun variable, or \"Clear All\" prior to running the 4 scenarios you wish to plot. "
   ]
  },
  {
   "cell_type": "code",
   "execution_count": null,
   "metadata": {},
   "outputs": [],
   "source": [
    "# Here compare multiple runs of box model \n",
    "# Please relabel for your experiments\n",
    "# Manually set length of vectors to plot to plot 1982-2017\n",
    "plt.figure(figsize=[8,6])\n",
    "lab1, = plt.plot(year[22:57],flux_model_noclim[22:57],'black',label = 'hindcast ocean model, constant climate')\n",
    "lab2, = plt.plot(year[22:58],flux_model[22:58],'blue',label = 'hindcast ocean model, historical climate')\n",
    "lab3, = plt.plot(year[22:58],flux_obs_prod,'green',label = 'observation product')\n",
    "lab4, = plt.plot(year[22:58],SaveRun[0,22:58],'red',linestyle='dashed',label = 'box model, run 1 (rename me!)')\n",
    "lab5, = plt.plot(year[22:58],SaveRun[1,22:58],'red',label = 'box model, run 2 (rename me!)')\n",
    "lab6, = plt.plot(year[22:58],SaveRun[2,22:58],'red',linestyle='dashdot',label = 'box model, run 3 (rename me!)')\n",
    "lab7, = plt.plot(year[22:58],SaveRun[3,22:58],'red',linestyle='dotted',label = 'box model, run 4 (rename me!)')\n",
    "plt.title('1982-2017 Air-sea Flux Comparison ', fontsize=12)\n",
    "plt.xlabel('years',fontsize=12)\n",
    "plt.ylabel('Flux (PgC/yr)', fontsize=12)\n",
    "plt.legend(handles=[lab1, lab2, lab3, lab4, lab5, lab6, lab7])\n",
    "plt.ylim(-3.3,-1.3)"
   ]
  },
  {
   "cell_type": "code",
   "execution_count": null,
   "metadata": {},
   "outputs": [],
   "source": [
    "pco2_ocean.shape"
   ]
  },
  {
   "cell_type": "code",
   "execution_count": null,
   "metadata": {},
   "outputs": [],
   "source": [
    "np.corrcoef(flux_obs_prod,flux_model[22:58])"
   ]
  },
  {
   "cell_type": "code",
   "execution_count": null,
   "metadata": {},
   "outputs": [],
   "source": [
    "np.mean(flux_box[263:696])"
   ]
  }
 ],
 "metadata": {
  "kernelspec": {
   "display_name": "carboncalc2021",
   "language": "python",
   "name": "carboncalc"
  },
  "language_info": {
   "codemirror_mode": {
    "name": "ipython",
    "version": 3
   },
   "file_extension": ".py",
   "mimetype": "text/x-python",
   "name": "python",
   "nbconvert_exporter": "python",
   "pygments_lexer": "ipython3",
   "version": "3.6.6"
  }
 },
 "nbformat": 4,
 "nbformat_minor": 2
}
