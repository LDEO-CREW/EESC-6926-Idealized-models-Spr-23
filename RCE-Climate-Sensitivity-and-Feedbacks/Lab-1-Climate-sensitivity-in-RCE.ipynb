{
 "cells": [
  {
   "cell_type": "markdown",
   "id": "b0cbf633-a4a8-4726-868a-822e19103aaf",
   "metadata": {},
   "source": [
    "### Radiative-convective equilibrium as an idealized problem for climate"
   ]
  },
  {
   "cell_type": "markdown",
   "id": "40a56563-11e6-464c-8c54-4e2c74df5df9",
   "metadata": {},
   "source": [
    "### Background on konrad \n",
    "\n",
    "`konrad` is a modern implementation of a single-column radiative-convective equilibrium model. In other sections of the course you'll be using very small models for which it will be straightforward enough to read the entire implementation. `konrad` is more involved so the focus will be on framing and answering questions and interpreting the results. \n",
    "\n",
    "The model's technical documention -- lists of all the components and functions -- is available on [ReadTheDocs](https://konrad.readthedocs.io). The konrad authors' [\"How to konrad\"](https://atmtools.github.io/konrad) Jupyter book is a tutorial in using the model. All the questions we asked below are found in the tutorial but you should arrive at your own answers. "
   ]
  },
  {
   "cell_type": "markdown",
   "id": "1a7e4982-7f13-4388-a357-46ee4ebd6e63",
   "metadata": {},
   "source": [
    "### The assignment\n",
    "\n",
    "In the next two labs we will use konrad to explore questions of climate, including characterizing forcing, feedbacks, and climate sensitivty. Much of the material is covered in  Kluft et al. 2019, Re-examining the first climate models: climate sensitivity of a modern radiative–convective equilibrium model, doi:[10.1175/JCLI-D-18-0774.1](https://doi.org/10.1175/JCLI-D-18-0774.1)."
   ]
  },
  {
   "cell_type": "markdown",
   "id": "b44ac6bd-257d-4355-98f4-cffd26adf9dd",
   "metadata": {
    "tags": []
   },
   "source": [
    "#### Preliminaries (do in class) \n",
    "\n",
    "The konrad developers have provided ..."
   ]
  },
  {
   "cell_type": "code",
   "execution_count": null,
   "id": "6af1d820-86c1-41d9-bd9e-5c235362aa79",
   "metadata": {},
   "outputs": [],
   "source": [
    "# conda install -y colorcet seaborn "
   ]
  },
  {
   "cell_type": "code",
   "execution_count": null,
   "id": "64bf4168-b482-4e78-bcfc-4a8341c56057",
   "metadata": {},
   "outputs": [],
   "source": [
    "# Import needed Python modules \n",
    "import matplotlib.pyplot as plt\n",
    "# import seaborn as sns\n",
    "# import colorcet as cc\n",
    "\n",
    "import numpy as np\n",
    "\n",
    "import konrad"
   ]
  },
  {
   "cell_type": "code",
   "execution_count": null,
   "id": "080d49c3-81b1-4eed-8217-e9728616066d",
   "metadata": {},
   "outputs": [],
   "source": [
    "# Choose pressure levels according to Equation 1 in Kluft et al. 2019 \n",
    "# https://konrad.readthedocs.io/_autosummary/konrad.utils.get_quadratic_pgrid.html#konrad.utils.get_quadratic_pgrid\n",
    "phlev = konrad.utils.get_quadratic_pgrid(1000e2, 10, 128) \n",
    "\n",
    "# Initial temperature profiles and composition \n",
    "atmosphere = konrad.atmosphere.Atmosphere(phlev)\n",
    "atmosphere.atmosphere_variables"
   ]
  },
  {
   "cell_type": "markdown",
   "id": "f80622c4-5768-4e6e-b3f6-1ff9c4853d6e",
   "metadata": {},
   "source": [
    "konrad defines an RCE calculation as a [set of choices](https://konrad.readthedocs.io/_autosummary/konrad.core.RCE.__init__.html). Many of the most important choices (radiation, ozone, humidity, surface, cloud, convection/vertical mixing, lapse rate, and large-scale upwelling) are specified as functions rather than discrete values. Start with the default configuation: "
   ]
  },
  {
   "cell_type": "code",
   "execution_count": null,
   "id": "d7f8904a-8d92-49af-a035-82853dfc3fe0",
   "metadata": {},
   "outputs": [],
   "source": [
    "atmosphere[\"CO2\"][:] = 280E-6\n",
    "initial_conds = atmosphere.copy()\n",
    "baseline = konrad.RCE(atmosphere, timestep='24h', max_duration='150d')"
   ]
  },
  {
   "cell_type": "markdown",
   "id": "1a6f4b9d-049e-471f-b3ed-8bee6d7fef56",
   "metadata": {},
   "source": [
    "Many of the sub-models have variables associated with them: "
   ]
  },
  {
   "cell_type": "code",
   "execution_count": null,
   "id": "b466654e-6f1a-4bbb-ad21-83aaca4bc800",
   "metadata": {},
   "outputs": [],
   "source": [
    "baseline.radiation.data_vars "
   ]
  },
  {
   "cell_type": "markdown",
   "id": "271099d8-0ab1-4f1a-ab11-54a93c992fd2",
   "metadata": {},
   "source": [
    "Two interleaved grids are used in the vertical: state variables (temperature, concentration, humidity) are on full levels (`plev`), while fluxes (especially radiation variables) are on half-levels (`phlev`). The surface is at `phlev[0]` and there's one more half-level than full level. \n",
    "\n",
    "Variables are undefined until the model is run, normally to convergence, which takes about 10 seconds on the LEAPangeo hub"
   ]
  },
  {
   "cell_type": "code",
   "execution_count": null,
   "id": "56a881cc-409f-4970-830d-88821eaf6031",
   "metadata": {},
   "outputs": [],
   "source": [
    "baseline.run() "
   ]
  },
  {
   "cell_type": "markdown",
   "id": "ba13551f-fa0f-446d-b7e4-c284c3690130",
   "metadata": {},
   "source": [
    "Variables will now have valid values. The first axis is time but, by default, only the values at equilibrium are available: "
   ]
  },
  {
   "cell_type": "code",
   "execution_count": null,
   "id": "4759f859-2bca-450c-ad80-b87222690245",
   "metadata": {},
   "outputs": [],
   "source": [
    "baseline.radiation[\"lw_flxu\"].shape"
   ]
  },
  {
   "cell_type": "markdown",
   "id": "c874586d-da40-4621-860b-a370da51ef15",
   "metadata": {},
   "source": [
    "Note that the `atmosphere` variable itself also has the new values "
   ]
  },
  {
   "cell_type": "code",
   "execution_count": null,
   "id": "35d72f8a-d1d5-451c-9c7d-4edd439badcd",
   "metadata": {},
   "outputs": [],
   "source": [
    "print(np.max(atmosphere['T'] - baseline.atmosphere['T']))"
   ]
  },
  {
   "cell_type": "markdown",
   "id": "b78cccfe-d99d-47e3-b18c-2cb12756d40b",
   "metadata": {},
   "source": [
    "We can, for example, plot the arbitrary initial and final equilibrium profiles of temperature. We'll plot these as a function of pressure, which varies over three orders of magnitude (so we use a log scale) and decreases as altitide increases (so we'll plot an inverted y-axis). "
   ]
  },
  {
   "cell_type": "code",
   "execution_count": null,
   "id": "10b3d648-7bd5-409c-bf0c-0ba894233425",
   "metadata": {},
   "outputs": [],
   "source": [
    "# sns.set_context(\"paper\")\n",
    "\n",
    "fig, (ax0, ax1) = plt.subplots(ncols=2, figsize=[12, 6], sharey=True)\n",
    "ax0.semilogy(initial_conds['T'][0,:], initial_conds['plev'])\n",
    "ax0.semilogy(atmosphere   ['T'][0,:], initial_conds['plev'])\n",
    "ax0.set_ylabel(\"$p$ / Pa\")\n",
    "ax0.set_xlabel(\"$T$ / K\")\n",
    "ax0.invert_yaxis()\n",
    "\n",
    "ax1.semilogy(initial_conds['H2O'][0,:], initial_conds['plev'])\n",
    "ax1.semilogy(atmosphere   ['H2O'][0,:], initial_conds['plev'])\n",
    "ax1.set_xlabel(\"water vapor / kg/kg\")\n",
    "\n",
    "# sns.despine() "
   ]
  },
  {
   "cell_type": "markdown",
   "id": "73e473d4-39ff-47e7-8784-3cda4d70597b",
   "metadata": {},
   "source": [
    "What does the energy budget look like in the baseline RCE state? We can plot the four components of the radiation budget: up- and down-going radiation for solar (shortwave or sw) and terrestrial (longwave or lw) radiation. The radiation model also tells us the net heating rate. "
   ]
  },
  {
   "cell_type": "code",
   "execution_count": null,
   "id": "b575db9c-f98f-4d54-89bb-6119f885591f",
   "metadata": {},
   "outputs": [],
   "source": [
    "# If we were doing this for publication we'd assign each variable a distinct color \n",
    "\n",
    "# sns.set_context(\"paper\")\n",
    "\n",
    "fig, (ax0, ax1) = plt.subplots(ncols=2, figsize=[12, 6], sharey=True)\n",
    "for v in ['lw_flxd', 'lw_flxu', 'sw_flxd', 'sw_flxu']:\n",
    "    ax0.semilogy(baseline.radiation[v][0,:], initial_conds['phlev'], label=v)\n",
    "ax0.set_ylabel(\"$p$ / hPa\")\n",
    "ax0.set_xlabel(\"$F$ / Wm$^{-2}$\")\n",
    "ax0.legend(frameon = False) \n",
    "ax0.invert_yaxis()\n",
    "\n",
    "\n",
    "ax1.semilogy(baseline.radiation['net_htngrt'][0,:],       initial_conds['plev'])\n",
    "ax1.set_ylabel(\"$p$ / hPa\")\n",
    "ax1.set_xlabel(\"$\\mathcal{H}$ / K d$^{-1}$\")\n",
    "\n",
    "# sns.despine() "
   ]
  },
  {
   "cell_type": "markdown",
   "id": "68620b45-edef-4b16-9b77-e8cc12a22ab0",
   "metadata": {},
   "source": [
    "Compare the down-going and up-going amounts of solar and terrestrial radiation. Do you understand why they have the relative values they do?  \n",
    "\n",
    "At pressures greater than 1000 Pa, or 100 hPa, i.e. in the lowest 90% of mass in the atmopheres, there's a non-zero radiative cooling rate of roughly 1 $K/d$. That's the cooling that's making the atmosphere unstable and leading to convection. \n",
    "\n",
    "The upper part of the atmosphere -- the stratosphere and above -- is in radiative equilibrium. \n",
    "\n",
    "What is the total top-of-atmosphere energy imbalance? You'll see it's far from 0, meaning that the tropical region represented by RCE absorbs more sunlight than it emits, on average. On earth this energy is exported from the tropics towards the poles by the atmospheric and oceanic circulations. "
   ]
  },
  {
   "cell_type": "markdown",
   "id": "1a0da6ff-9f26-4480-83f4-718cf9d53ddd",
   "metadata": {},
   "source": [
    "#### Question 1 \n",
    "What is the temperature struture of the (tropical) atmosphere under present-day conditions (that's the figure above), and how does this depend on surface temperature and humidity ?"
   ]
  },
  {
   "cell_type": "markdown",
   "id": "11313566-03f6-4972-a574-045dc7a7843c",
   "metadata": {},
   "source": [
    "**Surface temperature**: By [default](https://konrad.readthedocs.io/_autosummary/konrad.core.RCE.html) konrad uses a [fixed surface temperature of 288 K](https://konrad.readthedocs.io/_autosummary/konrad.surface.FixedTemperature.html#konrad.surface.FixedTemperature). This can be changed by specifying a different surface temperaure when setting up the RCE calculation:  "
   ]
  },
  {
   "cell_type": "code",
   "execution_count": null,
   "id": "9f117919-9a23-427b-a9bb-82be0be07fe0",
   "metadata": {},
   "outputs": [],
   "source": [
    "pert_Ts_286 = konrad.RCE(atmosphere, timestep='24h', max_duration='150d', \n",
    "                         surface=konrad.surface.FixedTemperature(temperature=286))\n",
    "pert_Ts_286.run()"
   ]
  },
  {
   "cell_type": "code",
   "execution_count": null,
   "id": "9817231e-2df7-4786-9e65-171d751431fd",
   "metadata": {},
   "outputs": [],
   "source": [
    "# Show how to change the humidity - actually what sets the default/initial profile?"
   ]
  },
  {
   "cell_type": "markdown",
   "id": "57df52f3-7da6-476f-8f8b-fccc1732b9c9",
   "metadata": {},
   "source": [
    "- Plot the vertical structure of temperature for several values of surface temperature and humidity. It'll be more interesting to plot the difference from the surface temperature so all the figures are on the same scale\n",
    "- The \"lapse rate\" is the change in temperature with height or pressure. Does this depend on the initial surface temperature? On the humidity? "
   ]
  },
  {
   "cell_type": "markdown",
   "id": "9e18c901-3229-47b3-bab9-fa764e82039a",
   "metadata": {},
   "source": [
    "#### Question 2\n",
    "What is the instantaneous radiative forcing due to doubling CO$_2$ concentrations from pre-industrial values, and how does this depend on humidity and temperature? "
   ]
  },
  {
   "cell_type": "markdown",
   "id": "2a1071d6-082d-4ba4-b74e-0432bb5231e7",
   "metadata": {},
   "source": [
    "First it'll be useful to write a function that tells us the net downward radiation (down minus up, both shortwave and longwave) "
   ]
  },
  {
   "cell_type": "code",
   "execution_count": null,
   "id": "a7f6a73d-bde5-4942-bbba-e9de5e2a11d5",
   "metadata": {},
   "outputs": [],
   "source": [
    "def compute_N(konrad_instance): \n",
    "    \"\"\"\n",
    "    Compute net downward radiation from down- and up-going longwave and shortwave radiation \n",
    "    \"\"\"\n",
    "    return(konrad_instance.radiation[\"lw_flxd\"] - konrad_instance.radiation[\"lw_flxu\"] + \n",
    "           konrad_instance.radiation[\"sw_flxd\"] - konrad_instance.radiation[\"sw_flxu\"])"
   ]
  },
  {
   "cell_type": "markdown",
   "id": "f6020a4a-24a8-4af4-a62c-eca11a3f7688",
   "metadata": {},
   "source": [
    "**Computing radiation fields**: Each component of konrad can be run on its own, so we can compute the instantaneous radiative forcing $F_i$ as the change in net radiation cased by a change in CO$_2$ concentration, i.e. "
   ]
  },
  {
   "cell_type": "code",
   "execution_count": null,
   "id": "65fac732-4fc2-4bf7-9c6a-7ee871f8022e",
   "metadata": {},
   "outputs": [],
   "source": [
    "# Re-equilibrate the temperature and humidity fields to baseline conditions\n",
    "baseline = konrad.RCE(atmosphere, timestep='24h', max_duration='150d')\n",
    "baseline.run() \n",
    "\n",
    "# What is the profile of net radiation under baseline conditions? \n",
    "N_prof = compute_N(baseline)\n",
    "\n",
    "# Calculate OLR at perturbed atmospheric state.\n",
    "atmos_2xCO2 = atmosphere.copy() \n",
    "# double the CO2 concentration\n",
    "atmos_2xCO2[\"CO2\"][:] *= 2\n",
    "\n",
    "# Compute new radiation fields with changing temperature or humidity \n",
    "baseline.radiation.update_heatingrates(atmos_2xCO2)\n",
    "\n",
    "# The change in the net radiation field as a function of pressure \n",
    "inst_rad_forcing = (compute_N(baseline) - N_prof)[0,:]"
   ]
  },
  {
   "cell_type": "markdown",
   "id": "6ad9b1f0-8ec9-486f-af03-d95641158c8e",
   "metadata": {},
   "source": [
    "- Plot the profiles of $F_i$ for the baseline case\n",
    "- Plot the dependence of $F_i$ at the top of the atmosphere on surface temperature and/or humidity for several values of each variable"
   ]
  },
  {
   "cell_type": "markdown",
   "id": "6327f524-4540-45e3-81b7-03d8f9bfbeb0",
   "metadata": {},
   "source": [
    "#### Question 3 \n",
    "What is the effective radiative forcing due to doubling CO2 concentrations from pre-industrial values, and what is the relationship between stratospheric cooling and the radiative adjustment? "
   ]
  },
  {
   "cell_type": "markdown",
   "id": "cecd2272-5545-4a9a-8117-41eec1485695",
   "metadata": {},
   "source": [
    "Effective radiative forcing $F$ is the change in N (normally at the top of the atmosphere) allowing all aspects of the system _except the surface temperature_ to respond to the forcing agent. Recall, though, that konrad specifices surface temperature as fixed, so $F$ can be computed by changing CO$_2$ concentrations, running the model to equilirium with the same surface temperture, and comparing the net radiation to the unperturbed state. "
   ]
  },
  {
   "cell_type": "markdown",
   "id": "c132ff9b-27c4-4e17-a5bf-a6060f5c342a",
   "metadata": {},
   "source": [
    "- Compute the effective radiative forcing for CO$_2$ concentrations doubled from pre-industrial concentrations (e.g. from 280 -> 560 ppmv). Compare the profile of the effective radiative forcing to the profile of instantaneous radiative forcing in question 3. \n",
    "- What fraction of $F$ is the adjustment by stratospheric cooling? \n",
    "- Plot the stratospheric adjustment - the change in stratospheric temperature profiles - for 2$\\times$CO$_2$ and 0.5$\\times$CO$_2$.\n",
    "- Plot the top-of-atmosphere ERF for several values of surface temperature and/or humidity. Is the dependence the same as for $F_i$? "
   ]
  },
  {
   "cell_type": "markdown",
   "id": "b66609d5-ab52-4ae0-95eb-d654ba2a078d",
   "metadata": {},
   "source": [
    "#### Question 4\n",
    "\n",
    "What is the climate sensitivity in radiative-convective equlibrium, and how does this depend on humidity and/or initial surface temperature? "
   ]
  },
  {
   "cell_type": "markdown",
   "id": "b2152cbc-16c8-44c9-b799-a3ab259818b4",
   "metadata": {},
   "source": [
    "**Climate sensitivity, method 1**\n",
    "\n",
    "Estimate climate sensitivty by computing the climate feedback and combining this with estimates of forcing by doubled CO2 contentrations. \n",
    "\n",
    "- Establish one or more baseline simulations of RCE, similar to those used in question 1, but varying humidity and/or surface temperature.  \n",
    "- Change the surface temperature, compute the change in top-of-atmosphere net radiation $N$, and the climate feedback $\\lambda = \\frac{d N}{d T_s}$. Does $\\lambda$ depend on humidity or surface temperature? \n",
    "- Estimate climate sensitivity $S$ from the effective radiative forcing (Question 3) and the climate feedback $S = \\frac{F_{2\\times CO_2}}{\\lambda}$"
   ]
  },
  {
   "cell_type": "markdown",
   "id": "9fcf866d-bf6b-4ab9-90a1-c4caa408b846",
   "metadata": {},
   "source": [
    "**Climate sensitivity, method 2**\n",
    "\n",
    "- From the baseline simulations, increasing $CO_2$ concentrations by a factor of 2 and run to equilibrium. (Need to use slab ocean) \n",
    "- How do estimates of $S$ compare to those estimated more indirectly? \n",
    "- How do estimates of $\\lambda$ inferred from $S$ and $F$ compare to those estimated from changing surface temperature? "
   ]
  }
 ],
 "metadata": {
  "kernelspec": {
   "display_name": "Python 3 (ipykernel)",
   "language": "python",
   "name": "python3"
  },
  "language_info": {
   "codemirror_mode": {
    "name": "ipython",
    "version": 3
   },
   "file_extension": ".py",
   "mimetype": "text/x-python",
   "name": "python",
   "nbconvert_exporter": "python",
   "pygments_lexer": "ipython3",
   "version": "3.10.8"
  }
 },
 "nbformat": 4,
 "nbformat_minor": 5
}
