{
  "nbformat": 4,
  "nbformat_minor": 0,
  "metadata": {
    "kernelspec": {
      "display_name": "Python 3",
      "language": "python",
      "name": "python3"
    },
    "language_info": {
      "codemirror_mode": {
        "name": "ipython",
        "version": 3
      },
      "file_extension": ".py",
      "mimetype": "text/x-python",
      "name": "python",
      "nbconvert_exporter": "python",
      "pygments_lexer": "ipython3",
      "version": "3.6.5"
    },
    "colab": {
      "provenance": []
    }
  },
  "cells": [
    {
      "cell_type": "raw",
      "metadata": {
        "id": "kOZIRmckyQ5m"
      },
      "source": [
        "  This program runs ocean_onebox_equations, to integrate the 1 box global\n",
        "  chemistry model of Figure 1.1.2 of Sarmiento and Gruber (2006)\n",
        " \n",
        "\n",
        "  01.17.2017 G.A. McKinley for AOS965, University of Wisconsin - Madison\n",
        "              following examples from Glover et al. 2011\n",
        "  01.09.2019 R. Dussin, convert to python"
      ]
    },
    {
      "cell_type": "markdown",
      "metadata": {
        "id": "x4ePsPcWyhRv"
      },
      "source": [
        "ocean_onebox_equations.ipynb"
      ]
    },
    {
      "cell_type": "code",
      "metadata": {
        "id": "up98DzXsyQ5p"
      },
      "source": [
        "import scipy.integrate as spint\n",
        "import matplotlib.pyplot as plt\n",
        "import numpy as np\n",
        "import warnings"
      ],
      "execution_count": null,
      "outputs": []
    },
    {
      "cell_type": "code",
      "metadata": {
        "id": "gF-lnwI0yQ51"
      },
      "source": [
        "warnings.filterwarnings('ignore')"
      ],
      "execution_count": null,
      "outputs": []
    },
    {
      "cell_type": "code",
      "metadata": {
        "id": "STo78HZpyQ56"
      },
      "source": [
        "class onebox():\n",
        "    \"\"\" one box model for chemical balance in the ocean\"\"\"\n",
        "    \n",
        "    def __init__(self, volume_ocean=1.29e18, river_flux=3.7e13):\n",
        "        \"\"\" constructor\n",
        "        \n",
        "        PARAMETERS:\n",
        "        \n",
        "        volume_ocean: float\n",
        "            volume of the ocean in m3\n",
        "        river_flux: float\n",
        "            river water flux in m3/year\n",
        "        \"\"\"\n",
        "        self.volume_ocean = volume_ocean\n",
        "        self.river_flux = river_flux\n",
        "        return None\n",
        "    \n",
        "    def integrate_tracer(self, name='Calcium', river_conc=364e3, removal_rate=1e-6,\n",
        "                        conc_ini=0., run_duration=1e6):\n",
        "        \"\"\" time integration of the one box equation\n",
        "        \n",
        "        PARAMETERS:\n",
        "        \n",
        "        name: str\n",
        "            name of the chemical element\n",
        "        river_conc: float\n",
        "            river concentration in umol/m3\n",
        "        removal_rate: float\n",
        "            removal rate of the chemical element in 1/year\n",
        "        conc_ini: float\n",
        "            initial concentration of chemical element in umol/m3\n",
        "        run_duration: float\n",
        "            integration time in years\n",
        "        \"\"\"\n",
        "        self.name = name\n",
        "        self.river_conc = river_conc\n",
        "        self.removal_rate = removal_rate\n",
        "        self.conc_ini = np.array([conc_ini])\n",
        "        self.time_ini = 0\n",
        "        self.time_end = run_duration\n",
        "        # integration the box equation with RK45\n",
        "        solver = spint.solve_ivp(self.ocean_onebox_equations, (self.time_ini, self.time_end,),\n",
        "                         self.conc_ini, method='RK45')\n",
        "        \n",
        "        self.time = solver['t']\n",
        "        self.tracer_conc = solver['y'].squeeze()\n",
        "        # plot the results\n",
        "        self.plot_timeserie()\n",
        "        return self.time, self.tracer_conc\n",
        "        \n",
        "    def plot_timeserie(self):\n",
        "        \"\"\" plotting function \"\"\"\n",
        "        plt.figure(figsize=[10,8])\n",
        "        plt.plot(self.time, self.tracer_conc)\n",
        "        plt.xlabel('years',fontsize=16)\n",
        "        plt.ylabel(self.name + ' concentration [umol/m3]', fontsize=16)\n",
        "        plt.xticks(fontsize=14)\n",
        "        plt.yticks(fontsize=14)\n",
        "        plt.title('Time evolution for ' + self.name + \n",
        "                  ' in one box model (Fig 1.1.2, SG06)', fontsize=16)\n",
        "        return None\n",
        "        \n",
        "    def ocean_onebox_equations(self, time, conc):\n",
        "        \"\"\" governing equation \"\"\"\n",
        "        dconcdt = (self.river_flux * self.river_conc - \n",
        "                   self.removal_rate * conc * self.volume_ocean) / self.volume_ocean\n",
        "        return dconcdt"
      ],
      "execution_count": null,
      "outputs": []
    },
    {
      "cell_type": "code",
      "metadata": {
        "id": "aUv3dVuCyQ5-"
      },
      "source": [
        "boxmodel = onebox()"
      ],
      "execution_count": null,
      "outputs": []
    },
    {
      "cell_type": "code",
      "metadata": {
        "id": "TpM0rTBfyQ6F"
      },
      "source": [
        "# default is Calcium\n",
        "t, ca_conc = boxmodel.integrate_tracer(run_duration=1e7)"
      ],
      "execution_count": null,
      "outputs": []
    },
    {
      "cell_type": "code",
      "metadata": {
        "id": "dnhogl8tyQ6P"
      },
      "source": [
        "# Silicon\n",
        "t, si_conc = boxmodel.integrate_tracer(name='Silicon', river_conc=193e3, removal_rate=1./(15e3))"
      ],
      "execution_count": null,
      "outputs": []
    },
    {
      "cell_type": "code",
      "metadata": {
        "id": "a3OToq1byQ6U"
      },
      "source": [
        "# Phosphorus\n",
        "t, p_conc = boxmodel.integrate_tracer(name='Phosphorus', river_conc=1300, removal_rate=1./(52e3))\n"
      ],
      "execution_count": null,
      "outputs": []
    },
    {
      "cell_type": "code",
      "metadata": {
        "id": "QLSO3VypyQ6Z"
      },
      "source": [],
      "execution_count": null,
      "outputs": []
    }
  ]
}