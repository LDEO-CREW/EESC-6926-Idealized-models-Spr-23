{
 "cells": [
  {
   "cell_type": "markdown",
   "metadata": {
    "colab_type": "text",
    "id": "pKKDk2IiNaOK"
   },
   "source": [
    "Lab 5 Energy Balance Climate Model (Budyko 1969)\n",
    "  - Mar 24 2021 GR6926 Fall 2021 (McKinley & Fiore)\n",
    "  - Nov 13 2019 GR6926 Fall 2019 (McKinley & Fiore)\n",
    "  - Adapted from matlab, EESC G9910 Simple Models Seminar Fall 2016 (Mike Previdi)"
   ]
  },
  {
   "cell_type": "code",
   "execution_count": null,
   "metadata": {
    "colab": {},
    "colab_type": "code",
    "id": "H-sjo60DNpdo"
   },
   "outputs": [],
   "source": [
    "import matplotlib.pyplot as plt\n",
    "import numpy as np\n",
    "import math\n",
    "import warnings"
   ]
  },
  {
   "cell_type": "code",
   "execution_count": null,
   "metadata": {
    "colab": {},
    "colab_type": "code",
    "id": "b-_ok6I-N2x0"
   },
   "outputs": [],
   "source": [
    "warnings.filterwarnings('ignore')"
   ]
  },
  {
   "cell_type": "code",
   "execution_count": null,
   "metadata": {
    "colab": {},
    "colab_type": "code",
    "id": "Dd8Q1vI3N7or"
   },
   "outputs": [],
   "source": [
    "#Note that Budyko equation is written for temperature in celsius\n",
    "#Note also that Budyko's original paper has radiation in units of kcal/cm2 each month ; we use W/m2\n",
    "\n",
    "class budyko():\n",
    "    \"\"\" energy balance climate model (Budyko style)\"\"\"\n",
    "    \n",
    "    def __init__(self, Q0=1336., alpha1=0.3,alpha2=0.6,s2=-0.482,T_s=-10.):\n",
    "        \"\"\" constructor\n",
    "        \n",
    "        PARAMETERS:\n",
    "        Q0: float\n",
    "            incoming solar radiation (Solar constant) units are W/m2\n",
    "        alpha_s: float\n",
    "            albedo at ice line, taken to be average of alpha1 and alpha2     \n",
    "        alpha1: float\n",
    "            albedo in non-ice covered state\n",
    "        alpha2: float\n",
    "            albedo in ice-covered state\n",
    "        s2: float\n",
    "             coefficient for second order Legendre polynomial\n",
    "        T_s: float\n",
    "            critical temperature below which ice advances and shifts to alpha2 albedo\n",
    "        \"\"\"\n",
    "        self.Q0 = Q0\n",
    "        self.alpha_s = 0.5*(alpha1+alpha2)\n",
    "        self.alpha1 = alpha1\n",
    "        self.alpha2 = alpha2\n",
    "        self.s2 = s2\n",
    "        self.T_s = T_s\n",
    "        \n",
    "        return None   \n",
    "\n",
    "    def get_roots(self):\n",
    "        # Find roots: r1 is the coefficient for x^3; r2 for x^2; r1 for x, and r4 incorporates all constants\n",
    "        r1 = -self.Q0*self.C*(self.alpha1-self.alpha2)*self.s2*(1/(8*self.B))\n",
    "        r2 = ((3*self.Q0*self.s2)/8)*(1-self.alpha_s)\n",
    "        r3 = ((self.Q0*self.C*(self.alpha1-self.alpha2))/(8*self.B))*(self.s2-2)\n",
    "        r4 = (self.Q0/4)-((self.Q0*self.s2)/8)-((self.Q0*self.alpha_s)/4)+((self.Q0*self.alpha_s*self.s2)/8)+((self.Q0*self.C)/(4*self.B))-((self.Q0*self.C*self.alpha2)/(4*self.B))-self.k\n",
    "        coeffs = [r1,r2,r3,r4]\n",
    "        self.iceline = np.roots(coeffs)\n",
    "        print(self.iceline)\n",
    "        #math.asin() returns in radians\n",
    "        soln1=math.asin(self.iceline[1])\n",
    "        soln2=math.asin(self.iceline[2])\n",
    "        print('Soln 1 =',math.degrees(soln1))\n",
    "        print('Soln 2 =',math.degrees(soln2))\n",
    "        self.icedeg = [math.degrees(soln1),math.degrees(soln2)]\n",
    "        return(self.iceline,self.icedeg)\n",
    "\n",
    "    def get_qofx(self, A=211.1, B=1.55, C=3.74):\n",
    "        \"\"\" calculate the constant needed to solve for xs (sin ice line latitude) as a function of Q\n",
    "          PARAMETERS:\n",
    "        \n",
    "         A: float\n",
    "            Value taken from Lindzen & Farrell (1977); see Baker & Roe 2010  W/m2\n",
    "          B: float\n",
    "            Value taken from Lindzen & Farrell (1977); see Baker & Roe 2010  W/m2/C\n",
    "            A+BT is the linear relationship between OLR and T; B reflects climate sensitivity\n",
    "          C: float\n",
    "            Value also taken from Lindzen & Farrell (1977). This term governs meridional redistribution of heat\n",
    "            Units are W/m2/C; C(T(x)-Tavg); redistribution depends on difference of local T to global mean       \n",
    "        \"\"\"\n",
    "\n",
    "        self.A = A\n",
    "        self.B = B\n",
    "        self.C = C\n",
    "        \n",
    "        #constant (see Roe & Baker 2010 Equation )\n",
    "        self.k=self.A+(self.B*self.T_s)+(self.C*self.T_s)+((self.C*self.A)/self.B)\n",
    "\n",
    "        #Solve EBCM for Q as a function of x (sin(ice-line lattiude)\n",
    "        #define array for x     \n",
    "        x=np.linspace(0.,1.,num=1000)\n",
    "        self.x = x\n",
    "        self.Q=self.k/(((-self.C*(self.alpha1-self.alpha2)*self.s2*x**3)/(8*self.B))+(((3*self.s2/8)*(1-self.alpha_s)*x**2)+(((self.C*(self.alpha1-self.alpha2))/(8*self.B))*(self.s2-2)*x)+(1/4)-(self.s2/8)-(self.alpha_s/4)+(self.alpha_s*self.s2)/8)+(self.C/(4*self.B))-((self.C*self.alpha2)/(4*self.B)))\n",
    "        self.Qrat=self.Q/self.Q0\n",
    "        self.plot_timeserie()\n",
    "        self.plot_timeserie_lat()\n",
    "        return(self.x, self.Q, self.Qrat, self.Q0)\n",
    "\n",
    " #Find the global stability point (ice line latitude)\n",
    "    def find_gsp(self):\n",
    "        # identify where Q(x) is minimum, where x = sin ice latitude\n",
    "        posminQ = self.Q.argmin()\n",
    "        print('index of minimum Q =', posminQ)\n",
    "        print('minQ =',np.round(Q[posminQ],decimals=1),', Q0=', Q0,', minQ/Q0=',np.round(Q[posminQ]/Q0,decimals=3))\n",
    "        self.gsp=self.x[posminQ]\n",
    "        self.gsp_deg=math.degrees(math.asin(self.gsp))\n",
    "        print('sin lat of GSP=', self.gsp)\n",
    "        print('lat of GSP=',self.gsp_deg)\n",
    "        return(self.gsp,self.gsp_deg)\n",
    "\n",
    "#make a plot\n",
    "    def plot_timeserie(self):\n",
    "        \"\"\" plotting function \"\"\"\n",
    "        plt.figure(figsize=[10,8])\n",
    "        plt.plot(self.Qrat, self.x, color='black')\n",
    "        plt.xlim([0.9,1.3])\n",
    "        plt.ylim([0,1])\n",
    "        plt.xlabel('Q/Q0',fontsize=16)\n",
    "        plt.ylabel('sine of ice-line latitude', fontsize=16)\n",
    "        plt.xticks(fontsize=14)\n",
    "        plt.yticks(fontsize=14)\n",
    "        plt.title('Budyko EBCM Solution', fontsize=16)  \n",
    "        plt.grid(which = 'major')\n",
    "        return None \n",
    "\n",
    "#alternate plot as function of latitude rather than sin(latitude)\n",
    "    def plot_timeserie_lat(self):\n",
    "        plt.figure(figsize=[10,8])\n",
    "        plt.plot(self.Qrat, np.rad2deg(np.arcsin(self.x)), color='black')\n",
    "        plt.xlim([0.9,1.3])\n",
    "        plt.ylim([0,90])\n",
    "        plt.xlabel('Q/Q0',fontsize=16)\n",
    "        plt.ylabel('ice-line latitude', fontsize=16)\n",
    "        plt.xticks(fontsize=14)\n",
    "        plt.yticks(fontsize=14)\n",
    "        plt.title('Budyko EBCM Solution', fontsize=16)\n",
    "        plt.grid(which = 'major')\n",
    "        return None\n",
    "    \n",
    "#Fill in here for calculation of global temperature for iceline at any x \"input_x\"  and Qratio \"input_Qrat\"  \n",
    "    def get_globalT(self,input_x,input_Qrat):\n",
    "        # solve for global T based on solution for x\n",
    "        ## STUDENTS TO FILL THIS IN\n",
    "        #alpha_p = \n",
    "        #globalT = \n",
    "        ## STUDENTS TO FILL THIS IN\n",
    "        return(globalT)\n",
    "    \n",
    "    def plot_T(self):\n",
    "        self.globalT = ebcm.get_globalT(input_x=self.x,input_Qrat=self.Qrat)\n",
    "        \"\"\" plotting T vs sin lat \"\"\"\n",
    "        plt.figure(figsize=[10,8])\n",
    "        plt.plot(self.globalT, self.x, color='black')\n",
    "        plt.xlabel('global mean T (C)',fontsize=16)\n",
    "        plt.ylabel('sine of ice-line latitude', fontsize=16)\n",
    "        plt.ylim([0,1])\n",
    "        plt.xticks(fontsize=14)\n",
    "        plt.yticks(fontsize=14)\n",
    "        plt.title('Budyko EBCM Solution, Global Temperature, with variation in Qratio', fontsize=16) \n",
    "        plt.grid(which = 'major')\n",
    "        \n",
    "        \"\"\" plotting T vs Q/Q0 \"\"\"\n",
    "        plt.figure(figsize=[10,8])\n",
    "        plt.plot( self.Qrat, self.globalT, color='black')\n",
    "        plt.ylabel('global mean T (C)',fontsize=16)\n",
    "        plt.xlabel('Q/Q0',fontsize=16)\n",
    "        plt.xlim([0.9,1.3])\n",
    "        plt.xticks(fontsize=14)\n",
    "        plt.yticks(fontsize=14)\n",
    "        plt.title('Budyko EBCM Solution, Global Temperature, with variation in Qratio', fontsize=16) \n",
    "        plt.grid(which = 'major')\n",
    "        return None\n"
   ]
  },
  {
   "cell_type": "code",
   "execution_count": null,
   "metadata": {
    "colab": {},
    "colab_type": "code",
    "id": "M7x-WWnvnlAp"
   },
   "outputs": [],
   "source": [
    "ebcm=budyko()"
   ]
  },
  {
   "cell_type": "code",
   "execution_count": null,
   "metadata": {
    "colab": {},
    "colab_type": "code",
    "id": "IIa3Xq15ZwwB"
   },
   "outputs": [],
   "source": [
    "x,Q,Qrat,Q0=ebcm.get_qofx()"
   ]
  },
  {
   "cell_type": "code",
   "execution_count": null,
   "metadata": {
    "colab": {},
    "colab_type": "code",
    "id": "85VaWU8urAW6"
   },
   "outputs": [],
   "source": [
    "iceline,j =ebcm.get_roots()"
   ]
  },
  {
   "cell_type": "code",
   "execution_count": null,
   "metadata": {
    "colab": {},
    "colab_type": "code",
    "id": "yx5weLs8fUi6"
   },
   "outputs": [],
   "source": [
    "#Find GSP\n",
    "x_gsp,x_gsp_deg=ebcm.find_gsp()"
   ]
  },
  {
   "cell_type": "code",
   "execution_count": null,
   "metadata": {
    "colab": {},
    "colab_type": "code",
    "id": "aCkATN-BKJkZ"
   },
   "outputs": [],
   "source": [
    "# First time through; set up matrix to save result\n",
    "SaveRun = Q.copy()"
   ]
  },
  {
   "cell_type": "code",
   "execution_count": null,
   "metadata": {
    "colab": {},
    "colab_type": "code",
    "id": "nRjXDE6oKJke"
   },
   "outputs": [],
   "source": [
    "# Run with a different parameter choice\n",
    "x,Q,Qrat,Q0=ebcm.get_qofx(B=2.2)\n",
    "# Save result\n",
    "SaveRun = np.vstack([SaveRun,Q])"
   ]
  },
  {
   "cell_type": "code",
   "execution_count": null,
   "metadata": {
    "colab": {},
    "colab_type": "code",
    "id": "Z-r4DX86KJkj"
   },
   "outputs": [],
   "source": [
    "\"Compare runs, Plotting against Latitude\"\n",
    "plt.figure(figsize=[10,8])\n",
    "lab1, = plt.plot(SaveRun[0,:]/Q0,np.rad2deg(np.arcsin(x)),'red', label = 'B=1.55; C=3.74,del=2.4')\n",
    "lab2, = plt.plot(SaveRun[1,:]/Q0,np.rad2deg(np.arcsin(x)),'blue',label = 'B=2.1; C=3.74 ,del=1.8')\n",
    "\" Add more comparisons here \"\n",
    "#lab3, = plt.plot(SaveRun[2,:]/Q0,np.rad2deg(np.arcsin(x)),'green',label = 'B=2.2; C=3.74,del=1.7')\n",
    "#lab4, = plt.plot(SaveRun[3,:]/Q0,np.rad2deg(np.arcsin(x)),'black',label = 'B=2.2; C=3,del=1.4')\n",
    "plt.xlim([0.9,1.3])\n",
    "plt.ylim([0,90])\n",
    "plt.xlabel('Q/Q0',fontsize=16)\n",
    "plt.ylabel('Latitude', fontsize=16)\n",
    "plt.legend(handles=[lab1, lab2])\n",
    "#plt.legend(handles=[lab1, lab2, lab3, lab4])\n",
    "plt.title('Budyko EBCM Solution, Comparison ', fontsize=16) \n",
    "plt.grid(which = 'major')"
   ]
  },
  {
   "cell_type": "code",
   "execution_count": null,
   "metadata": {
    "colab": {},
    "colab_type": "code",
    "id": "vvIG0y3pKJkn"
   },
   "outputs": [],
   "source": [
    "# Rerun default, for consideration of Global Mean T\n",
    "#x,Q,Qrat,Q0=ebcm.get_qofx()\n",
    "#iceline,j =ebcm.get_roots()\n",
    "#x_gsp,x_gsp_deg=ebcm.find_gsp()"
   ]
  },
  {
   "cell_type": "code",
   "execution_count": null,
   "metadata": {
    "colab": {},
    "colab_type": "code",
    "id": "bk6Z8WiqKJkr"
   },
   "outputs": [],
   "source": [
    "# Need to fill in Qrat here\n",
    "#T_gsp = ebcm.get_globalT(input_x = x_gsp, input_Qrat = )\n",
    "#print(T_gsp)\n",
    "#Ticeline = ebcm.get_globalT(input_x = iceline[1],input_Qrat = )\n",
    "#print(Ticeline)"
   ]
  },
  {
   "cell_type": "code",
   "execution_count": null,
   "metadata": {
    "colab": {},
    "colab_type": "code",
    "id": "101NwOIwKJkw"
   },
   "outputs": [],
   "source": [
    "#ebcm.plot_T()"
   ]
  },
  {
   "cell_type": "code",
   "execution_count": null,
   "metadata": {
    "colab": {},
    "colab_type": "code",
    "id": "WDreHZKDKJkz"
   },
   "outputs": [],
   "source": []
  },
  {
   "cell_type": "code",
   "execution_count": null,
   "metadata": {
    "colab": {},
    "colab_type": "code",
    "id": "HXU-qlPmKJk2"
   },
   "outputs": [],
   "source": []
  }
 ],
 "metadata": {
  "colab": {
   "collapsed_sections": [],
   "name": "Budyko_EBCM_v4_student.ipynb",
   "provenance": [
    {
     "file_id": "1VZG0JzWxiucS_9fhfQeSMC1NnwU8qwCO",
     "timestamp": 1573176460915
    }
   ]
  },
  "kernelspec": {
   "display_name": "Python 3",
   "language": "python",
   "name": "python3"
  },
  "language_info": {
   "codemirror_mode": {
    "name": "ipython",
    "version": 3
   },
   "file_extension": ".py",
   "mimetype": "text/x-python",
   "name": "python",
   "nbconvert_exporter": "python",
   "pygments_lexer": "ipython3",
   "version": "3.6.5"
  }
 },
 "nbformat": 4,
 "nbformat_minor": 2
}
